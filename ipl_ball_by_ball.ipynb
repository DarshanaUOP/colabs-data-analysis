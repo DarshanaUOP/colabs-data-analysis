{
  "nbformat": 4,
  "nbformat_minor": 0,
  "metadata": {
    "colab": {
      "provenance": [],
      "authorship_tag": "ABX9TyPGhuP0Vr5ocJzyARApwuC4",
      "include_colab_link": true
    },
    "kernelspec": {
      "name": "python3",
      "display_name": "Python 3"
    },
    "language_info": {
      "name": "python"
    }
  },
  "cells": [
    {
      "cell_type": "markdown",
      "metadata": {
        "id": "view-in-github",
        "colab_type": "text"
      },
      "source": [
        "<a href=\"https://colab.research.google.com/github/DarshanaUOP/colabs-data-analysis/blob/main/ipl_ball_by_ball.ipynb\" target=\"_parent\"><img src=\"https://colab.research.google.com/assets/colab-badge.svg\" alt=\"Open In Colab\"/></a>"
      ]
    },
    {
      "cell_type": "markdown",
      "source": [
        "# Setup"
      ],
      "metadata": {
        "id": "gwRNa3cH5O84"
      }
    },
    {
      "cell_type": "code",
      "execution_count": 1,
      "metadata": {
        "colab": {
          "base_uri": "https://localhost:8080/"
        },
        "id": "ft-BhUT-r_XY",
        "outputId": "8f841a6b-10e3-4189-8377-7bcc43aacef6"
      },
      "outputs": [
        {
          "output_type": "stream",
          "name": "stdout",
          "text": [
            "\r0% [Working]\r            \rHit:1 http://archive.ubuntu.com/ubuntu jammy InRelease\n",
            "\r0% [Waiting for headers] [Waiting for headers] [Connected to cloud.r-project.org (18.160.213.93)] [C\r                                                                                                    \rHit:2 http://security.ubuntu.com/ubuntu jammy-security InRelease\n",
            "\r0% [Waiting for headers] [Waiting for headers] [Connecting to ppa.launchpadcontent.net (185.125.190.\r                                                                                                    \rHit:3 https://cloud.r-project.org/bin/linux/ubuntu jammy-cran40/ InRelease\n",
            "\r0% [Waiting for headers] [Connecting to ppa.launchpadcontent.net (185.125.190.80)] [Waiting for head\r                                                                                                    \rHit:4 http://archive.ubuntu.com/ubuntu jammy-updates InRelease\n",
            "\r0% [Waiting for headers] [Connected to ppa.launchpadcontent.net (185.125.190.80)] [Waiting for heade\r                                                                                                    \rHit:5 https://developer.download.nvidia.com/compute/cuda/repos/ubuntu2204/x86_64  InRelease\n",
            "Hit:6 http://archive.ubuntu.com/ubuntu jammy-backports InRelease\n",
            "Hit:7 https://ppa.launchpadcontent.net/c2d4u.team/c2d4u4.0+/ubuntu jammy InRelease\n",
            "Hit:8 https://ppa.launchpadcontent.net/deadsnakes/ppa/ubuntu jammy InRelease\n",
            "Hit:9 https://ppa.launchpadcontent.net/graphics-drivers/ppa/ubuntu jammy InRelease\n",
            "Hit:10 https://ppa.launchpadcontent.net/ubuntugis/ppa/ubuntu jammy InRelease\n",
            "Reading package lists... Done\n",
            "Requirement already satisfied: pyspark in /usr/local/lib/python3.10/dist-packages (3.5.1)\n",
            "Requirement already satisfied: py4j==0.10.9.7 in /usr/local/lib/python3.10/dist-packages (from pyspark) (0.10.9.7)\n"
          ]
        }
      ],
      "source": [
        "#pre requisist\n",
        "!apt-get update\n",
        "!apt-get install openjdk-8-jdk-headless -qq > /dev/null\n",
        "\n",
        "# Install findspark: Adds Pyspark to sys.path at runtime\n",
        "!pip install -q findspark\n",
        "\n",
        "# Install pyspark\n",
        "!pip install pyspark\n"
      ]
    },
    {
      "cell_type": "code",
      "source": [
        "from google.colab import drive\n",
        "drive.mount('/content/drive')"
      ],
      "metadata": {
        "id": "dA54MKU_tFu8",
        "colab": {
          "base_uri": "https://localhost:8080/"
        },
        "outputId": "83467320-75ed-41cf-bbff-3eafde3a04e5"
      },
      "execution_count": 2,
      "outputs": [
        {
          "output_type": "stream",
          "name": "stdout",
          "text": [
            "Mounted at /content/drive\n"
          ]
        }
      ]
    },
    {
      "cell_type": "markdown",
      "source": [
        "# Read Dataset"
      ],
      "metadata": {
        "id": "XUAQt_no5Ui_"
      }
    },
    {
      "cell_type": "code",
      "source": [
        "from pyspark.sql import SparkSession\n",
        "\n",
        "\n",
        "spark = SparkSession.builder \\\n",
        "    .appName(\"IPL-2022-dataset\") \\\n",
        "    .getOrCreate()\n",
        "\n",
        "# IPL 2022 dataset\n",
        "df = spark.read.csv(\"/content/drive/MyDrive/Colab Notebooks/IPL-ball-by-Ball/dataset/ipl_2022_deliveries.csv\", header=True, inferSchema=True)\n",
        "df.createOrReplaceTempView(\"ipl_2022\")\n",
        "spark.sql(\"SELECT * FROM ipl_2022\").show()\n",
        "\n",
        "# IPL 2023 dataset\n",
        "df3 = spark.read.csv(\"/content/drive/MyDrive/Colab Notebooks/IPL-ball-by-Ball/dataset/ipl_2023_deliveries.csv\", header=True, inferSchema=True)\n",
        "df3.createOrReplaceTempView(\"ipl_2023\")\n",
        "spark.sql(\"SELECT * FROM ipl_2023\").show()\n",
        "\n",
        "# IPL 2024 dataset\n",
        "df3 = spark.read.csv(\"/content/drive/MyDrive/Colab Notebooks/IPL-ball-by-Ball/dataset/ipl_2024_deliveries.csv\", header=True, inferSchema=True)\n",
        "df3.createOrReplaceTempView(\"ipl_2024\")\n",
        "spark.sql(\"SELECT * FROM ipl_2024\").show()\n"
      ],
      "metadata": {
        "id": "8U0BXdcrsa8U",
        "colab": {
          "base_uri": "https://localhost:8080/"
        },
        "outputId": "1d638977-dff5-4545-9a62-37bfe1c44b44"
      },
      "execution_count": 3,
      "outputs": [
        {
          "output_type": "stream",
          "name": "stdout",
          "text": [
            "+------+------------+--------+--------------------+-------+------------+------------+----+-----------+-------+-------+--------------------+--------------------+--------------------+------------+------------+------------+------------+------------+------------+-----+--------+-----------+------+----+-------+----+-------+-----------+----------------+-----------+-------------+\n",
            "|season|        date|match_id|               venue|innings|batting_team|bowling_team|over|     bowler|striker|   runs|               speed|        description1|        description2|description3|description4|description5|description6|description7|description8|druns|match_no|runs_of_bat|extras|wide|legbyes|byes|noballs|wicket_type|player_dismissed|extra_druns|off_bat_druns|\n",
            "+------+------------+--------+--------------------+-------+------------+------------+----+-----------+-------+-------+--------------------+--------------------+--------------------+------------+------------+------------+------------+------------+------------+-----+--------+-----------+------+----+-------+----+-------+-----------+----------------+-----------+-------------+\n",
            "|  2022|Mar 26, 2022|  202201|Wankhede Stadium,...|      1|         CSK|         KKR| 0.1|Umesh Yadav|Gaikwad|no ball| no ball |  the b...| little movement ...|                NULL|        NULL|        NULL|        NULL|        NULL|        NULL|        NULL|    N|       1|          0|     1|   0|      0|   0|      1|       NULL|            NULL|          1|            0|\n",
            "|  2022|Mar 26, 2022|  202201|Wankhede Stadium,...|      1|         CSK|         KKR| 0.1|Umesh Yadav|Gaikwad|      0| no run |  and he...|                NULL|                NULL|        NULL|        NULL|        NULL|        NULL|        NULL|        NULL|    0|       1|          0|     0|   0|      0|   0|      0|       NULL|            NULL|          0|            0|\n",
            "|  2022|Mar 26, 2022|  202201|Wankhede Stadium,...|      1|         CSK|         KKR| 0.2|Umesh Yadav|Gaikwad|   wide| wide |  spills o...|                NULL|                NULL|        NULL|        NULL|        NULL|        NULL|        NULL|        NULL|   Wd|       1|          0|     1|   1|      0|   0|      0|       NULL|            NULL|          1|            0|\n",
            "|  2022|Mar 26, 2022|  202201|Wankhede Stadium,...|      1|         CSK|         KKR| 0.2|Umesh Yadav|Gaikwad|      0| no run |  back o...|                NULL|                NULL|        NULL|        NULL|        NULL|        NULL|        NULL|        NULL|    0|       1|          0|     0|   0|      0|   0|      0|       NULL|            NULL|          0|            0|\n",
            "|  2022|Mar 26, 2022|  202201|Wankhede Stadium,...|      1|         CSK|         KKR| 0.3|Umesh Yadav|Gaikwad|    out| out Caught by Ni...|                NULL|                NULL|        NULL|        NULL|        NULL|        NULL|        NULL|        NULL|    W|       1|          0|     0|   0|      0|   0|      0|     caught|         Gaikwad|          0|            0|\n",
            "|  2022|Mar 26, 2022|  202201|Wankhede Stadium,...|      1|         CSK|         KKR| 0.4|Umesh Yadav|Uthappa|   wide| wide |  and mr. ...|                NULL|                NULL|        NULL|        NULL|        NULL|        NULL|        NULL|        NULL|   Wd|       1|          0|     1|   1|      0|   0|      0|       NULL|            NULL|          1|            0|\n",
            "|  2022|Mar 26, 2022|  202201|Wankhede Stadium,...|      1|         CSK|         KKR| 0.4|Umesh Yadav|Uthappa|      0| no run |  lookin...|                NULL|                NULL|        NULL|        NULL|        NULL|        NULL|        NULL|        NULL|    0|       1|          0|     0|   0|      0|   0|      0|       NULL|            NULL|          0|            0|\n",
            "|  2022|Mar 26, 2022|  202201|Wankhede Stadium,...|      1|         CSK|         KKR| 0.5|Umesh Yadav|Uthappa|      0| no run |  and de...|                NULL|                NULL|        NULL|        NULL|        NULL|        NULL|        NULL|        NULL|    0|       1|          0|     0|   0|      0|   0|      0|       NULL|            NULL|          0|            0|\n",
            "|  2022|Mar 26, 2022|  202201|Wankhede Stadium,...|      1|         CSK|         KKR| 0.6|Umesh Yadav|Uthappa|      0| no run |  jabs t...|                NULL|                NULL|        NULL|        NULL|        NULL|        NULL|        NULL|        NULL|    0|       1|          0|     0|   0|      0|   0|      0|       NULL|            NULL|          0|            0|\n",
            "|  2022|Mar 26, 2022|  202201|Wankhede Stadium,...|      1|         CSK|         KKR| 1.1|Shivam Mavi| Conway|      0| no run |  taps t...|                NULL|                NULL|        NULL|        NULL|        NULL|        NULL|        NULL|        NULL|    0|       1|          0|     0|   0|      0|   0|      0|       NULL|            NULL|          0|            0|\n",
            "|  2022|Mar 26, 2022|  202201|Wankhede Stadium,...|      1|         CSK|         KKR| 1.2|Shivam Mavi| Conway|      0| no run |  short ...|        angling away| Conway looks to ...|        NULL|        NULL|        NULL|        NULL|        NULL|        NULL|    0|       1|          0|     0|   0|      0|   0|      0|       NULL|            NULL|          0|            0|\n",
            "|  2022|Mar 26, 2022|  202201|Wankhede Stadium,...|      1|         CSK|         KKR| 1.3|Shivam Mavi| Conway|      1| 1 run |  short ball| Conway chops the...|                NULL|        NULL|        NULL|        NULL|        NULL|        NULL|        NULL|    1|       1|          1|     0|   0|      0|   0|      0|       NULL|            NULL|          0|            1|\n",
            "|  2022|Mar 26, 2022|  202201|Wankhede Stadium,...|      1|         CSK|         KKR| 1.4|Shivam Mavi|Uthappa|      4| FOUR |  back of ...| Uthappa whips th...|                NULL|        NULL|        NULL|        NULL|        NULL|        NULL|        NULL|    4|       1|          4|     0|   0|      0|   0|      0|       NULL|            NULL|          0|            4|\n",
            "|  2022|Mar 26, 2022|  202201|Wankhede Stadium,...|      1|         CSK|         KKR| 1.5|Shivam Mavi|Uthappa|      0| no run |  fuller...| Uthappa stabs it...|                NULL|        NULL|        NULL|        NULL|        NULL|        NULL|        NULL|    0|       1|          0|     0|   0|      0|   0|      0|       NULL|            NULL|          0|            0|\n",
            "|  2022|Mar 26, 2022|  202201|Wankhede Stadium,...|      1|         CSK|         KKR| 1.6|Shivam Mavi|Uthappa|      0| no run |  fuller...| Uthappa drives t...|                NULL|        NULL|        NULL|        NULL|        NULL|        NULL|        NULL|    0|       1|          0|     0|   0|      0|   0|      0|       NULL|            NULL|          0|            0|\n",
            "|  2022|Mar 26, 2022|  202201|Wankhede Stadium,...|      1|         CSK|         KKR| 2.1|Umesh Yadav| Conway|      1| 1 run |  waits o...|                NULL|                NULL|        NULL|        NULL|        NULL|        NULL|        NULL|        NULL|    1|       1|          1|     0|   0|      0|   0|      0|       NULL|            NULL|          0|            1|\n",
            "|  2022|Mar 26, 2022|  202201|Wankhede Stadium,...|      1|         CSK|         KKR| 2.2|Umesh Yadav|Uthappa|      6| SIX |  whipped f...| Uthappa picks it...|                NULL|        NULL|        NULL|        NULL|        NULL|        NULL|        NULL|    6|       1|          6|     0|   0|      0|   0|      0|       NULL|            NULL|          0|            6|\n",
            "|  2022|Mar 26, 2022|  202201|Wankhede Stadium,...|      1|         CSK|         KKR| 2.3|Umesh Yadav|Uthappa|      0| no run |  length...| Uthappa pats the...|                NULL|        NULL|        NULL|        NULL|        NULL|        NULL|        NULL|    0|       1|          0|     0|   0|      0|   0|      0|       NULL|            NULL|          0|            0|\n",
            "|  2022|Mar 26, 2022|  202201|Wankhede Stadium,...|      1|         CSK|         KKR| 2.4|Umesh Yadav|Uthappa|      0| no run |  length...| Uthappa checks h...|                NULL|        NULL|        NULL|        NULL|        NULL|        NULL|        NULL|    0|       1|          0|     0|   0|      0|   0|      0|       NULL|            NULL|          0|            0|\n",
            "|  2022|Mar 26, 2022|  202201|Wankhede Stadium,...|      1|         CSK|         KKR| 2.5|Umesh Yadav|Uthappa|      1| 1 run |  opens t...|                NULL|                NULL|        NULL|        NULL|        NULL|        NULL|        NULL|        NULL|    1|       1|          1|     0|   0|      0|   0|      0|       NULL|            NULL|          0|            1|\n",
            "+------+------------+--------+--------------------+-------+------------+------------+----+-----------+-------+-------+--------------------+--------------------+--------------------+------------+------------+------------+------------+------------+------------+-----+--------+-----------+------+----+-------+----+-------+-----------+----------------+-----------+-------------+\n",
            "only showing top 20 rows\n",
            "\n",
            "+--------+------+--------+------------+--------------------+------------+------------+-------+----+---------+-------------+-----------+------+----+-------+----+-------+-----------+----------------+\n",
            "|match_id|season|match_no|        date|               venue|batting_team|bowling_team|innings|over|  striker|       bowler|runs_of_bat|extras|wide|legbyes|byes|noballs|wicket_type|player_dismissed|\n",
            "+--------+------+--------+------------+--------------------+------------+------------+-------+----+---------+-------------+-----------+------+----+-------+----+-------+-----------+----------------+\n",
            "|  202301|  2023|       1|Mar 31, 2023|Narendra Modi Sta...|         CSK|          GT|      1| 0.1|   Conway|        Shami|          0|     0|   0|      0|   0|      0|       NULL|            NULL|\n",
            "|  202301|  2023|       1|Mar 31, 2023|Narendra Modi Sta...|         CSK|          GT|      1| 0.2|   Conway|        Shami|          0|     1|   0|      1|   0|      0|       NULL|            NULL|\n",
            "|  202301|  2023|       1|Mar 31, 2023|Narendra Modi Sta...|         CSK|          GT|      1| 0.3|  Gaikwad|        Shami|          0|     0|   0|      0|   0|      0|       NULL|            NULL|\n",
            "|  202301|  2023|       1|Mar 31, 2023|Narendra Modi Sta...|         CSK|          GT|      1| 0.4|  Gaikwad|        Shami|          1|     0|   0|      0|   0|      0|       NULL|            NULL|\n",
            "|  202301|  2023|       1|Mar 31, 2023|Narendra Modi Sta...|         CSK|          GT|      1| 0.5|   Conway|        Shami|          0|     0|   0|      0|   0|      0|       NULL|            NULL|\n",
            "|  202301|  2023|       1|Mar 31, 2023|Narendra Modi Sta...|         CSK|          GT|      1| 0.6|   Conway|        Shami|          0|     0|   0|      0|   0|      0|       NULL|            NULL|\n",
            "|  202301|  2023|       1|Mar 31, 2023|Narendra Modi Sta...|         CSK|          GT|      1| 1.1|  Gaikwad|Hardik Pandya|          4|     0|   0|      0|   0|      0|       NULL|            NULL|\n",
            "|  202301|  2023|       1|Mar 31, 2023|Narendra Modi Sta...|         CSK|          GT|      1| 1.2|  Gaikwad|Hardik Pandya|          0|     0|   0|      0|   0|      0|       NULL|            NULL|\n",
            "|  202301|  2023|       1|Mar 31, 2023|Narendra Modi Sta...|         CSK|          GT|      1| 1.3|  Gaikwad|Hardik Pandya|          4|     0|   0|      0|   0|      0|       NULL|            NULL|\n",
            "|  202301|  2023|       1|Mar 31, 2023|Narendra Modi Sta...|         CSK|          GT|      1| 1.4|  Gaikwad|Hardik Pandya|          1|     0|   0|      0|   0|      0|       NULL|            NULL|\n",
            "|  202301|  2023|       1|Mar 31, 2023|Narendra Modi Sta...|         CSK|          GT|      1| 1.5|   Conway|Hardik Pandya|          1|     0|   0|      0|   0|      0|       NULL|            NULL|\n",
            "|  202301|  2023|       1|Mar 31, 2023|Narendra Modi Sta...|         CSK|          GT|      1| 1.6|  Gaikwad|Hardik Pandya|          1|     0|   0|      0|   0|      0|       NULL|            NULL|\n",
            "|  202301|  2023|       1|Mar 31, 2023|Narendra Modi Sta...|         CSK|          GT|      1| 2.1|  Gaikwad|        Shami|          1|     0|   0|      0|   0|      0|       NULL|            NULL|\n",
            "|  202301|  2023|       1|Mar 31, 2023|Narendra Modi Sta...|         CSK|          GT|      1| 2.2|   Conway|        Shami|          0|     0|   0|      0|   0|      0|     bowled|          Conway|\n",
            "|  202301|  2023|       1|Mar 31, 2023|Narendra Modi Sta...|         CSK|          GT|      1| 2.3|Moeen Ali|        Shami|          0|     0|   0|      0|   0|      0|       NULL|            NULL|\n",
            "|  202301|  2023|       1|Mar 31, 2023|Narendra Modi Sta...|         CSK|          GT|      1| 2.4|Moeen Ali|        Shami|          0|     0|   0|      0|   0|      0|       NULL|            NULL|\n",
            "|  202301|  2023|       1|Mar 31, 2023|Narendra Modi Sta...|         CSK|          GT|      1| 2.5|Moeen Ali|        Shami|          0|     0|   0|      0|   0|      0|       NULL|            NULL|\n",
            "|  202301|  2023|       1|Mar 31, 2023|Narendra Modi Sta...|         CSK|          GT|      1| 2.6|Moeen Ali|        Shami|          0|     0|   0|      0|   0|      0|       NULL|            NULL|\n",
            "|  202301|  2023|       1|Mar 31, 2023|Narendra Modi Sta...|         CSK|          GT|      1| 3.1|  Gaikwad|Joshua Little|          6|     0|   0|      0|   0|      0|       NULL|            NULL|\n",
            "|  202301|  2023|       1|Mar 31, 2023|Narendra Modi Sta...|         CSK|          GT|      1| 3.2|  Gaikwad|Joshua Little|          4|     0|   0|      0|   0|      0|       NULL|            NULL|\n",
            "+--------+------+--------+------------+--------------------+------------+------------+-------+----+---------+-------------+-----------+------+----+-------+----+-------+-----------+----------------+\n",
            "only showing top 20 rows\n",
            "\n",
            "+--------+------+--------+------------+--------------------+------------+------------+-------+----+----------+----------------+-----------+------+----+-------+----+-------+-----------+----------------+\n",
            "|match_id|season|match_no|        date|               venue|batting_team|bowling_team|innings|over|   striker|          bowler|runs_of_bat|extras|wide|legbyes|byes|noballs|wicket_type|player_dismissed|\n",
            "+--------+------+--------+------------+--------------------+------------+------------+-------+----+----------+----------------+-----------+------+----+-------+----+-------+-----------+----------------+\n",
            "|  202401|  2024|       1|Mar 22, 2024|MA Chidambaram St...|         RCB|         CSK|      1| 0.1|     Kohli|          Chahar|          0|     1|   1|      0|   0|      0|       NULL|            NULL|\n",
            "|  202401|  2024|       1|Mar 22, 2024|MA Chidambaram St...|         RCB|         CSK|      1| 0.1|     Kohli|          Chahar|          1|     0|   0|      0|   0|      0|       NULL|            NULL|\n",
            "|  202401|  2024|       1|Mar 22, 2024|MA Chidambaram St...|         RCB|         CSK|      1| 0.2|du Plessis|          Chahar|          0|     0|   0|      0|   0|      0|       NULL|            NULL|\n",
            "|  202401|  2024|       1|Mar 22, 2024|MA Chidambaram St...|         RCB|         CSK|      1| 0.3|du Plessis|          Chahar|          0|     0|   0|      0|   0|      0|       NULL|            NULL|\n",
            "|  202401|  2024|       1|Mar 22, 2024|MA Chidambaram St...|         RCB|         CSK|      1| 0.4|du Plessis|          Chahar|          0|     0|   0|      0|   0|      0|       NULL|            NULL|\n",
            "|  202401|  2024|       1|Mar 22, 2024|MA Chidambaram St...|         RCB|         CSK|      1| 0.5|du Plessis|          Chahar|          4|     0|   0|      0|   0|      0|       NULL|            NULL|\n",
            "|  202401|  2024|       1|Mar 22, 2024|MA Chidambaram St...|         RCB|         CSK|      1| 0.6|du Plessis|          Chahar|          1|     0|   0|      0|   0|      0|       NULL|            NULL|\n",
            "|  202401|  2024|       1|Mar 22, 2024|MA Chidambaram St...|         RCB|         CSK|      1| 1.1|du Plessis|Tushar Deshpande|          4|     0|   0|      0|   0|      0|       NULL|            NULL|\n",
            "|  202401|  2024|       1|Mar 22, 2024|MA Chidambaram St...|         RCB|         CSK|      1| 1.2|du Plessis|Tushar Deshpande|          0|     0|   0|      0|   0|      0|       NULL|            NULL|\n",
            "|  202401|  2024|       1|Mar 22, 2024|MA Chidambaram St...|         RCB|         CSK|      1| 1.3|du Plessis|Tushar Deshpande|          4|     0|   0|      0|   0|      0|       NULL|            NULL|\n",
            "|  202401|  2024|       1|Mar 22, 2024|MA Chidambaram St...|         RCB|         CSK|      1| 1.4|du Plessis|Tushar Deshpande|          0|     0|   0|      0|   0|      0|       NULL|            NULL|\n",
            "|  202401|  2024|       1|Mar 22, 2024|MA Chidambaram St...|         RCB|         CSK|      1| 1.5|du Plessis|Tushar Deshpande|          0|     0|   0|      0|   0|      0|       NULL|            NULL|\n",
            "|  202401|  2024|       1|Mar 22, 2024|MA Chidambaram St...|         RCB|         CSK|      1| 1.6|du Plessis|Tushar Deshpande|          1|     0|   0|      0|   0|      0|       NULL|            NULL|\n",
            "|  202401|  2024|       1|Mar 22, 2024|MA Chidambaram St...|         RCB|         CSK|      1| 2.1|du Plessis|          Chahar|          4|     0|   0|      0|   0|      0|       NULL|            NULL|\n",
            "|  202401|  2024|       1|Mar 22, 2024|MA Chidambaram St...|         RCB|         CSK|      1| 2.2|du Plessis|          Chahar|          0|     1|   1|      0|   0|      0|       NULL|            NULL|\n",
            "|  202401|  2024|       1|Mar 22, 2024|MA Chidambaram St...|         RCB|         CSK|      1| 2.2|du Plessis|          Chahar|          0|     0|   0|      0|   0|      0|       NULL|            NULL|\n",
            "|  202401|  2024|       1|Mar 22, 2024|MA Chidambaram St...|         RCB|         CSK|      1| 2.3|du Plessis|          Chahar|          4|     0|   0|      0|   0|      0|       NULL|            NULL|\n",
            "|  202401|  2024|       1|Mar 22, 2024|MA Chidambaram St...|         RCB|         CSK|      1| 2.4|du Plessis|          Chahar|          4|     0|   0|      0|   0|      0|       NULL|            NULL|\n",
            "|  202401|  2024|       1|Mar 22, 2024|MA Chidambaram St...|         RCB|         CSK|      1| 2.5|du Plessis|          Chahar|          0|     0|   0|      0|   0|      0|       NULL|            NULL|\n",
            "|  202401|  2024|       1|Mar 22, 2024|MA Chidambaram St...|         RCB|         CSK|      1| 2.6|du Plessis|          Chahar|          4|     0|   0|      0|   0|      0|       NULL|            NULL|\n",
            "+--------+------+--------+------------+--------------------+------------+------------+-------+----+----------+----------------+-----------+------+----+-------+----+-------+-----------+----------------+\n",
            "only showing top 20 rows\n",
            "\n"
          ]
        }
      ]
    },
    {
      "cell_type": "markdown",
      "source": [
        "# Test Quries"
      ],
      "metadata": {
        "id": "xfG21e5G5Z_E"
      }
    },
    {
      "cell_type": "code",
      "source": [
        "spark.sql(\"SELECT season,match_id,innings,over,runs,striker FROM ipl_2022 where runs = 1 LIMIT 25\").show()"
      ],
      "metadata": {
        "id": "iFPV_d-Lu9l1",
        "colab": {
          "base_uri": "https://localhost:8080/"
        },
        "outputId": "a0d1cdf1-67da-4804-eab8-9852be87a2a0"
      },
      "execution_count": 4,
      "outputs": [
        {
          "output_type": "stream",
          "name": "stdout",
          "text": [
            "+------+--------+-------+----+----+-----------+\n",
            "|season|match_id|innings|over|runs|    striker|\n",
            "+------+--------+-------+----+----+-----------+\n",
            "|  2022|  202201|      1| 1.3|   1|     Conway|\n",
            "|  2022|  202201|      1| 2.1|   1|     Conway|\n",
            "|  2022|  202201|      1| 2.5|   1|    Uthappa|\n",
            "|  2022|  202201|      1| 3.1|   1|    Uthappa|\n",
            "|  2022|  202201|      1| 3.3|   1|     Conway|\n",
            "|  2022|  202201|      1| 4.5|   1|     Rayudu|\n",
            "|  2022|  202201|      1| 5.1|   1|     Rayudu|\n",
            "|  2022|  202201|      1| 5.2|   1|    Uthappa|\n",
            "|  2022|  202201|      1| 6.1|   1|    Uthappa|\n",
            "|  2022|  202201|      1| 6.2|   1|     Rayudu|\n",
            "|  2022|  202201|      1| 6.5|   1|    Uthappa|\n",
            "|  2022|  202201|      1| 7.1|   1|    Uthappa|\n",
            "|  2022|  202201|      1| 7.5|   1|     Rayudu|\n",
            "|  2022|  202201|      1| 7.6|   1|     Jadeja|\n",
            "|  2022|  202201|      1| 8.1|   1|     Jadeja|\n",
            "|  2022|  202201|      1| 8.3|   1|     Rayudu|\n",
            "|  2022|  202201|      1| 8.5|   1|     Jadeja|\n",
            "|  2022|  202201|      1| 9.2|   1|     Jadeja|\n",
            "|  2022|  202201|      1| 9.4|   1|Shivam Dube|\n",
            "|  2022|  202201|      1|10.1|   1|Shivam Dube|\n",
            "+------+--------+-------+----+----+-----------+\n",
            "only showing top 20 rows\n",
            "\n"
          ]
        }
      ]
    },
    {
      "cell_type": "markdown",
      "source": [
        "Distinct runs understand in dataset"
      ],
      "metadata": {
        "id": "mQgSBHC5_4Dq"
      }
    },
    {
      "cell_type": "code",
      "source": [
        "spark.sql(\"SELECT DISTINCT runs , count(runs) from ipl_2022 GROUP BY runs ORDER BY runs ASC\").show()"
      ],
      "metadata": {
        "id": "l5o_HkqC-k5h",
        "colab": {
          "base_uri": "https://localhost:8080/"
        },
        "outputId": "6e8a43bb-570d-49d0-f896-02f443e8c8a0"
      },
      "execution_count": 5,
      "outputs": [
        {
          "output_type": "stream",
          "name": "stdout",
          "text": [
            "+--------------------+-----------+\n",
            "|                runs|count(runs)|\n",
            "+--------------------+-----------+\n",
            "|                   0|       5469|\n",
            "|                   1|       6347|\n",
            "|                   2|       1017|\n",
            "|                   3|         58|\n",
            "|                   4|       2011|\n",
            "|50-run stand up b...|          1|\n",
            "|                   6|       1056|\n",
            "|                byes|         33|\n",
            "|from round the wi...|          1|\n",
            "|            leg byes|        242|\n",
            "|             no ball|         72|\n",
            "|                 out|        903|\n",
            "|                wide|        701|\n",
            "|wide out Stumped!...|          1|\n",
            "+--------------------+-----------+\n",
            "\n"
          ]
        }
      ]
    },
    {
      "cell_type": "markdown",
      "source": [
        "OFF BAT RUNS"
      ],
      "metadata": {
        "id": "J-LnBqWMCi0q"
      }
    },
    {
      "cell_type": "code",
      "source": [
        "spark.sql(\"SELECT DISTINCT off_bat_druns, COUNT(off_bat_druns) AS run_count , off_bat_druns * run_count AS total_runs from ipl_2022 GROUP BY off_bat_druns ORDER BY off_bat_druns ASC\").show()"
      ],
      "metadata": {
        "id": "sd2ltxoPBQUy",
        "colab": {
          "base_uri": "https://localhost:8080/"
        },
        "outputId": "280c537e-62b2-43a7-fbe2-8c8a9e479423"
      },
      "execution_count": 6,
      "outputs": [
        {
          "output_type": "stream",
          "name": "stdout",
          "text": [
            "+-------------+---------+----------+\n",
            "|off_bat_druns|run_count|total_runs|\n",
            "+-------------+---------+----------+\n",
            "|            0|     7368|         0|\n",
            "|            1|     6383|      6383|\n",
            "|            2|     1021|      2042|\n",
            "|            3|       58|       174|\n",
            "|            4|     2020|      8080|\n",
            "|            6|     1062|      6372|\n",
            "+-------------+---------+----------+\n",
            "\n"
          ]
        }
      ]
    },
    {
      "cell_type": "markdown",
      "source": [
        "EXTRAS"
      ],
      "metadata": {
        "id": "2tagjD7OClQC"
      }
    },
    {
      "cell_type": "code",
      "source": [
        "spark.sql(\"SELECT DISTINCT extra_druns , count(extra_druns) AS run_count , (extra_druns*run_count) AS total_runs from ipl_2022 GROUP BY extra_druns ORDER BY extra_druns ASC\").show()"
      ],
      "metadata": {
        "id": "R9o9v6mKBekJ",
        "colab": {
          "base_uri": "https://localhost:8080/"
        },
        "outputId": "51dd62a4-3004-4a48-ba2b-4177742e764f"
      },
      "execution_count": 7,
      "outputs": [
        {
          "output_type": "stream",
          "name": "stdout",
          "text": [
            "+-----------+---------+----------+\n",
            "|extra_druns|run_count|total_runs|\n",
            "+-----------+---------+----------+\n",
            "|          0|    16861|         0|\n",
            "|          1|      943|       943|\n",
            "|          2|       33|        66|\n",
            "|          3|        1|         3|\n",
            "|          4|       38|       152|\n",
            "|          5|       36|       180|\n",
            "+-----------+---------+----------+\n",
            "\n"
          ]
        }
      ]
    },
    {
      "cell_type": "code",
      "source": [
        "spark.sql(\"SELECT COUNT(DISTINCT match_id) FROM ipl_2022\").show()"
      ],
      "metadata": {
        "id": "GAewENChDq1L",
        "colab": {
          "base_uri": "https://localhost:8080/"
        },
        "outputId": "c4cc375d-409f-4f42-dd42-6fd454a0956b"
      },
      "execution_count": 8,
      "outputs": [
        {
          "output_type": "stream",
          "name": "stdout",
          "text": [
            "+------------------------+\n",
            "|count(DISTINCT match_id)|\n",
            "+------------------------+\n",
            "|                      74|\n",
            "+------------------------+\n",
            "\n"
          ]
        }
      ]
    },
    {
      "cell_type": "markdown",
      "source": [
        "separate runs by category"
      ],
      "metadata": {
        "id": "DX1FUj5cSjPg"
      }
    },
    {
      "cell_type": "code",
      "source": [
        "spark.sql(\"SELECT match_id, innings, off_bat_druns  , COUNT(off_bat_druns) AS ball_count , (ball_count*off_bat_druns) AS collected_runs \\\n",
        "FROM ipl_2022 \\\n",
        "GROUP BY match_id, innings, off_bat_druns \\\n",
        "ORDER BY match_id, innings, off_bat_druns\").show()"
      ],
      "metadata": {
        "id": "Y4x1p8LJEBHc",
        "colab": {
          "base_uri": "https://localhost:8080/"
        },
        "outputId": "7575da61-2dbf-450a-ab82-fe6a98a64eb2"
      },
      "execution_count": 9,
      "outputs": [
        {
          "output_type": "stream",
          "name": "stdout",
          "text": [
            "+--------+-------+-------------+----------+--------------+\n",
            "|match_id|innings|off_bat_druns|ball_count|collected_runs|\n",
            "+--------+-------+-------------+----------+--------------+\n",
            "|  202201|      1|            0|        60|             0|\n",
            "|  202201|      1|            1|        47|            47|\n",
            "|  202201|      1|            2|         4|             8|\n",
            "|  202201|      1|            4|        10|            40|\n",
            "|  202201|      1|            6|         5|            30|\n",
            "|  202201|      2|            0|        43|             0|\n",
            "|  202201|      2|            1|        43|            43|\n",
            "|  202201|      2|            2|        10|            20|\n",
            "|  202201|      2|            4|        12|            48|\n",
            "|  202201|      2|            6|         3|            18|\n",
            "|  202202|      1|            0|        40|             0|\n",
            "|  202202|      1|            1|        50|            50|\n",
            "|  202202|      1|            2|         8|            16|\n",
            "|  202202|      1|            4|        18|            72|\n",
            "|  202202|      1|            6|         6|            36|\n",
            "|  202202|      2|            0|        46|             0|\n",
            "|  202202|      2|            1|        39|            39|\n",
            "|  202202|      2|            2|         6|            12|\n",
            "|  202202|      2|            3|         1|             3|\n",
            "|  202202|      2|            4|        18|            72|\n",
            "+--------+-------+-------------+----------+--------------+\n",
            "only showing top 20 rows\n",
            "\n"
          ]
        }
      ]
    },
    {
      "cell_type": "code",
      "source": [
        "spark.sql(\"SELECT match_id, over, extra_druns, off_bat_druns , (extra_druns + off_bat_druns) AS run FROM ipl_2022 \\\n",
        "\").show()"
      ],
      "metadata": {
        "id": "9uJi0WU3Srgv",
        "colab": {
          "base_uri": "https://localhost:8080/"
        },
        "outputId": "f5cdbed0-0a92-46ce-f246-63c8c3dca184"
      },
      "execution_count": 10,
      "outputs": [
        {
          "output_type": "stream",
          "name": "stdout",
          "text": [
            "+--------+----+-----------+-------------+---+\n",
            "|match_id|over|extra_druns|off_bat_druns|run|\n",
            "+--------+----+-----------+-------------+---+\n",
            "|  202201| 0.1|          1|            0|  1|\n",
            "|  202201| 0.1|          0|            0|  0|\n",
            "|  202201| 0.2|          1|            0|  1|\n",
            "|  202201| 0.2|          0|            0|  0|\n",
            "|  202201| 0.3|          0|            0|  0|\n",
            "|  202201| 0.4|          1|            0|  1|\n",
            "|  202201| 0.4|          0|            0|  0|\n",
            "|  202201| 0.5|          0|            0|  0|\n",
            "|  202201| 0.6|          0|            0|  0|\n",
            "|  202201| 1.1|          0|            0|  0|\n",
            "|  202201| 1.2|          0|            0|  0|\n",
            "|  202201| 1.3|          0|            1|  1|\n",
            "|  202201| 1.4|          0|            4|  4|\n",
            "|  202201| 1.5|          0|            0|  0|\n",
            "|  202201| 1.6|          0|            0|  0|\n",
            "|  202201| 2.1|          0|            1|  1|\n",
            "|  202201| 2.2|          0|            6|  6|\n",
            "|  202201| 2.3|          0|            0|  0|\n",
            "|  202201| 2.4|          0|            0|  0|\n",
            "|  202201| 2.5|          0|            1|  1|\n",
            "+--------+----+-----------+-------------+---+\n",
            "only showing top 20 rows\n",
            "\n"
          ]
        }
      ]
    },
    {
      "cell_type": "markdown",
      "source": [],
      "metadata": {
        "id": "P5Ff-D-wVAFg"
      }
    },
    {
      "cell_type": "code",
      "source": [
        "spark.sql(\"SELECT (extra_druns + off_bat_druns) AS run, COUNT(*) AS number_of_balls, (number_of_balls*run) AS score_colleted FROM ipl_2022 GROUP BY run ORDER BY run\").show()\n",
        "\n",
        "spark.sql(\"SELECT (extras + runs_of_bat) AS run, COUNT(*) AS number_of_balls, (number_of_balls*run) AS score_colleted FROM ipl_2023 GROUP BY run ORDER BY run\").show()\n",
        "\n",
        "spark.sql(\"SELECT (extras + runs_of_bat) AS run, COUNT(*) AS number_of_balls, (number_of_balls*run) AS score_colleted FROM ipl_2024 GROUP BY run ORDER BY run\").show()"
      ],
      "metadata": {
        "id": "Vu7w5awATX_v",
        "colab": {
          "base_uri": "https://localhost:8080/"
        },
        "outputId": "2e457b98-0867-4e17-cac3-bb2811bffba2"
      },
      "execution_count": 11,
      "outputs": [
        {
          "output_type": "stream",
          "name": "stdout",
          "text": [
            "+---+---------------+--------------+\n",
            "|run|number_of_balls|score_colleted|\n",
            "+---+---------------+--------------+\n",
            "|  0|           6355|             0|\n",
            "|  1|           7267|          7267|\n",
            "|  2|           1072|          2144|\n",
            "|  3|             62|           186|\n",
            "|  4|           2049|          8196|\n",
            "|  5|             45|           225|\n",
            "|  6|           1057|          6342|\n",
            "|  7|              5|            35|\n",
            "+---+---------------+--------------+\n",
            "\n",
            "+---+---------------+--------------+\n",
            "|run|number_of_balls|score_colleted|\n",
            "+---+---------------+--------------+\n",
            "|  0|           5817|             0|\n",
            "|  1|           7476|          7476|\n",
            "|  2|           1158|          2316|\n",
            "|  3|             53|           159|\n",
            "|  4|           2196|          8784|\n",
            "|  5|             39|           195|\n",
            "|  6|           1110|          6660|\n",
            "|  7|             14|            98|\n",
            "+---+---------------+--------------+\n",
            "\n",
            "+---+---------------+--------------+\n",
            "|run|number_of_balls|score_colleted|\n",
            "+---+---------------+--------------+\n",
            "|  0|           3280|             0|\n",
            "|  1|           4489|          4489|\n",
            "|  2|            728|          1456|\n",
            "|  3|             21|            63|\n",
            "|  4|           1390|          5560|\n",
            "|  5|             28|           140|\n",
            "|  6|            806|          4836|\n",
            "|  7|              8|            56|\n",
            "+---+---------------+--------------+\n",
            "\n"
          ]
        }
      ]
    },
    {
      "cell_type": "markdown",
      "source": [
        "Number of balls per each run"
      ],
      "metadata": {
        "id": "-fvCLG_KHoDQ"
      }
    },
    {
      "cell_type": "code",
      "source": [
        "spark.sql(\"SELECT COUNT(*) AS total_bals FROM ipl_2024\").show()\n",
        "spark.sql(\"SELECT \\\n",
        "  (extras + runs_of_bat) AS run,\\\n",
        "  COUNT(*) AS number_of_balls, \\\n",
        "  ROUND(((number_of_balls/(SELECT COUNT(*) AS total_bals FROM ipl_2024))*100),2) AS bals_percentage, \\\n",
        "  (number_of_balls*run) AS score_colleted \\\n",
        "FROM ipl_2024 \\\n",
        "GROUP BY run \\\n",
        "ORDER BY run\").show()"
      ],
      "metadata": {
        "id": "rzIbGvUaHliu",
        "colab": {
          "base_uri": "https://localhost:8080/"
        },
        "outputId": "0592ca12-322c-45cd-fbde-8add2945f6b9"
      },
      "execution_count": 12,
      "outputs": [
        {
          "output_type": "stream",
          "name": "stdout",
          "text": [
            "+----------+\n",
            "|total_bals|\n",
            "+----------+\n",
            "|     10750|\n",
            "+----------+\n",
            "\n",
            "+---+---------------+---------------+--------------+\n",
            "|run|number_of_balls|bals_percentage|score_colleted|\n",
            "+---+---------------+---------------+--------------+\n",
            "|  0|           3280|          30.51|             0|\n",
            "|  1|           4489|          41.76|          4489|\n",
            "|  2|            728|           6.77|          1456|\n",
            "|  3|             21|            0.2|            63|\n",
            "|  4|           1390|          12.93|          5560|\n",
            "|  5|             28|           0.26|           140|\n",
            "|  6|            806|            7.5|          4836|\n",
            "|  7|              8|           0.07|            56|\n",
            "+---+---------------+---------------+--------------+\n",
            "\n"
          ]
        }
      ]
    },
    {
      "cell_type": "markdown",
      "source": [
        "Balls used percentage for each year"
      ],
      "metadata": {
        "id": "5FSYORFHJQvo"
      }
    },
    {
      "cell_type": "code",
      "source": [
        "spark.sql(\"SELECT \\\n",
        "  (extras + runs_of_bat) AS run,\\\n",
        "  COUNT(*) AS number_of_balls, \\\n",
        "  ROUND(((number_of_balls/(SELECT COUNT(*) AS total_bals FROM ipl_2022))*100),2) AS bals_percentage, \\\n",
        "  (number_of_balls*run) AS score_colleted \\\n",
        "FROM ipl_2022 \\\n",
        "GROUP BY run \\\n",
        "ORDER BY run\").show()\n",
        "\n",
        "spark.sql(\"SELECT \\\n",
        "  (extras + runs_of_bat) AS run,\\\n",
        "  COUNT(*) AS number_of_balls, \\\n",
        "  ROUND(((number_of_balls/(SELECT COUNT(*) AS total_bals FROM ipl_2023))*100),2) AS bals_percentage, \\\n",
        "  (number_of_balls*run) AS score_colleted \\\n",
        "FROM ipl_2023 \\\n",
        "GROUP BY run \\\n",
        "ORDER BY run\").show()\n",
        "\n",
        "spark.sql(\"SELECT \\\n",
        "  (extras + runs_of_bat) AS run,\\\n",
        "  COUNT(*) AS number_of_balls, \\\n",
        "  ROUND(((number_of_balls/(SELECT COUNT(*) AS total_bals FROM ipl_2024))*100),2) AS bals_percentage, \\\n",
        "  (number_of_balls*run) AS score_colleted \\\n",
        "FROM ipl_2024 \\\n",
        "GROUP BY run \\\n",
        "ORDER BY run\").show()"
      ],
      "metadata": {
        "id": "xRqvyuRCJXfy",
        "colab": {
          "base_uri": "https://localhost:8080/"
        },
        "outputId": "d8f4ebd2-41bf-4689-ba4f-123ab47a927b"
      },
      "execution_count": 13,
      "outputs": [
        {
          "output_type": "stream",
          "name": "stdout",
          "text": [
            "+---+---------------+---------------+--------------+\n",
            "|run|number_of_balls|bals_percentage|score_colleted|\n",
            "+---+---------------+---------------+--------------+\n",
            "|  0|           6355|          35.48|             0|\n",
            "|  1|           7267|          40.57|          7267|\n",
            "|  2|           1072|           5.98|          2144|\n",
            "|  3|             62|           0.35|           186|\n",
            "|  4|           2049|          11.44|          8196|\n",
            "|  5|             45|           0.25|           225|\n",
            "|  6|           1057|            5.9|          6342|\n",
            "|  7|              5|           0.03|            35|\n",
            "+---+---------------+---------------+--------------+\n",
            "\n",
            "+---+---------------+---------------+--------------+\n",
            "|run|number_of_balls|bals_percentage|score_colleted|\n",
            "+---+---------------+---------------+--------------+\n",
            "|  0|           5817|          32.56|             0|\n",
            "|  1|           7476|          41.85|          7476|\n",
            "|  2|           1158|           6.48|          2316|\n",
            "|  3|             53|            0.3|           159|\n",
            "|  4|           2196|          12.29|          8784|\n",
            "|  5|             39|           0.22|           195|\n",
            "|  6|           1110|           6.21|          6660|\n",
            "|  7|             14|           0.08|            98|\n",
            "+---+---------------+---------------+--------------+\n",
            "\n",
            "+---+---------------+---------------+--------------+\n",
            "|run|number_of_balls|bals_percentage|score_colleted|\n",
            "+---+---------------+---------------+--------------+\n",
            "|  0|           3280|          30.51|             0|\n",
            "|  1|           4489|          41.76|          4489|\n",
            "|  2|            728|           6.77|          1456|\n",
            "|  3|             21|            0.2|            63|\n",
            "|  4|           1390|          12.93|          5560|\n",
            "|  5|             28|           0.26|           140|\n",
            "|  6|            806|            7.5|          4836|\n",
            "|  7|              8|           0.07|            56|\n",
            "+---+---------------+---------------+--------------+\n",
            "\n"
          ]
        }
      ]
    },
    {
      "cell_type": "markdown",
      "source": [
        "Combined results"
      ],
      "metadata": {
        "id": "mycGEBM0J4Rx"
      }
    },
    {
      "cell_type": "code",
      "source": [
        "spark.sql(\"SELECT \\\n",
        "    run, \\\n",
        "    SUM(number_of_balls_2022) AS number_of_balls_2022, \\\n",
        "    AVG(bals_percentage_2022) AS bals_percentage_2022, \\\n",
        "    SUM(score_collected_2022) AS total_score_collected_2022, \\\n",
        "    SUM(number_of_balls_2023) AS number_of_balls_2023, \\\n",
        "    AVG(bals_percentage_2023) AS bals_percentage_2023, \\\n",
        "    SUM(score_collected_2023) AS total_score_collected_2023, \\\n",
        "    SUM(number_of_balls_2024) AS number_of_balls_2024, \\\n",
        "    AVG(bals_percentage_2024) AS bals_percentage_2024, \\\n",
        "    SUM(score_collected_2024) AS total_score_collected_2024 \\\n",
        "FROM ( \\\n",
        "    SELECT \\\n",
        "        (extras + runs_of_bat) AS run, \\\n",
        "        COUNT(*) AS number_of_balls_2022, \\\n",
        "        ROUND(((COUNT(*) / (SELECT COUNT(*) FROM ipl_2022)) * 100), 2) AS bals_percentage_2022, \\\n",
        "        (COUNT(*) * (extras + runs_of_bat)) AS score_collected_2022, \\\n",
        "        NULL AS number_of_balls_2023, \\\n",
        "        NULL AS bals_percentage_2023, \\\n",
        "        NULL AS score_collected_2023, \\\n",
        "        NULL AS number_of_balls_2024, \\\n",
        "        NULL AS bals_percentage_2024, \\\n",
        "        NULL AS score_collected_2024 \\\n",
        "    FROM \\\n",
        "        ipl_2022 \\\n",
        "    GROUP BY \\\n",
        "        run \\\n",
        "    UNION ALL \\\n",
        "    SELECT \\\n",
        "        (extras + runs_of_bat) AS run, \\\n",
        "        NULL AS number_of_balls_2022, \\\n",
        "        NULL AS bals_percentage_2022, \\\n",
        "        NULL AS score_collected_2022, \\\n",
        "        COUNT(*) AS number_of_balls_2023, \\\n",
        "        ROUND(((COUNT(*) / (SELECT COUNT(*) FROM ipl_2023)) * 100), 2) AS bals_percentage_2023, \\\n",
        "        (COUNT(*) * (extras + runs_of_bat)) AS score_collected_2023, \\\n",
        "        NULL AS number_of_balls_2024, \\\n",
        "        NULL AS bals_percentage_2024, \\\n",
        "        NULL AS score_collected_2024 \\\n",
        "    FROM \\\n",
        "        ipl_2023 \\\n",
        "    GROUP BY \\\n",
        "        run \\\n",
        "    UNION ALL \\\n",
        "    SELECT \\\n",
        "        (extras + runs_of_bat) AS run, \\\n",
        "        NULL AS number_of_balls_2022, \\\n",
        "        NULL AS bals_percentage_2022, \\\n",
        "        NULL AS score_collected_2022, \\\n",
        "        NULL AS number_of_balls_2023, \\\n",
        "        NULL AS bals_percentage_2023, \\\n",
        "        NULL AS score_collected_2023, \\\n",
        "        COUNT(*) AS number_of_balls_2024, \\\n",
        "        ROUND(((COUNT(*) / (SELECT COUNT(*) FROM ipl_2024)) * 100), 2) AS bals_percentage_2024, \\\n",
        "        (COUNT(*) * (extras + runs_of_bat)) AS score_collected_2024 \\\n",
        "    FROM \\\n",
        "        ipl_2024 \\\n",
        "    GROUP BY \\\n",
        "        run \\\n",
        ") AS combined_results \\\n",
        "GROUP BY \\\n",
        "    run \\\n",
        "ORDER BY \\\n",
        "    run;\\\n",
        "\").show()\n"
      ],
      "metadata": {
        "id": "RvEuX5VnJ63H",
        "colab": {
          "base_uri": "https://localhost:8080/"
        },
        "outputId": "be27d182-3578-4049-e218-50990ea0b16c"
      },
      "execution_count": 14,
      "outputs": [
        {
          "output_type": "stream",
          "name": "stdout",
          "text": [
            "+---+--------------------+--------------------+--------------------------+--------------------+--------------------+--------------------------+--------------------+--------------------+--------------------------+\n",
            "|run|number_of_balls_2022|bals_percentage_2022|total_score_collected_2022|number_of_balls_2023|bals_percentage_2023|total_score_collected_2023|number_of_balls_2024|bals_percentage_2024|total_score_collected_2024|\n",
            "+---+--------------------+--------------------+--------------------------+--------------------+--------------------+--------------------------+--------------------+--------------------+--------------------------+\n",
            "|  0|                6355|               35.48|                         0|                5817|               32.56|                         0|                3280|               30.51|                         0|\n",
            "|  1|                7267|               40.57|                      7267|                7476|               41.85|                      7476|                4489|               41.76|                      4489|\n",
            "|  2|                1072|                5.98|                      2144|                1158|                6.48|                      2316|                 728|                6.77|                      1456|\n",
            "|  3|                  62|                0.35|                       186|                  53|                 0.3|                       159|                  21|                 0.2|                        63|\n",
            "|  4|                2049|               11.44|                      8196|                2196|               12.29|                      8784|                1390|               12.93|                      5560|\n",
            "|  5|                  45|                0.25|                       225|                  39|                0.22|                       195|                  28|                0.26|                       140|\n",
            "|  6|                1057|                 5.9|                      6342|                1110|                6.21|                      6660|                 806|                 7.5|                      4836|\n",
            "|  7|                   5|                0.03|                        35|                  14|                0.08|                        98|                   8|                0.07|                        56|\n",
            "+---+--------------------+--------------------+--------------------------+--------------------+--------------------+--------------------------+--------------------+--------------------+--------------------------+\n",
            "\n"
          ]
        }
      ]
    },
    {
      "cell_type": "markdown",
      "source": [
        "Customized Query"
      ],
      "metadata": {
        "id": "nyyRBab5LJq_"
      }
    },
    {
      "cell_type": "code",
      "source": [
        "spark.sql(\"SELECT \\\n",
        "    run, \\\n",
        "    AVG(bals_percentage_2022) AS bals_percentage_2022, \\\n",
        "    AVG(bals_percentage_2023) AS bals_percentage_2023, \\\n",
        "    AVG(bals_percentage_2024) AS bals_percentage_2024 \\\n",
        "FROM ( \\\n",
        "    SELECT \\\n",
        "        (extras + runs_of_bat) AS run, \\\n",
        "        COUNT(*) AS number_of_balls_2022, \\\n",
        "        ROUND(((COUNT(*) / (SELECT COUNT(*) FROM ipl_2022)) * 100), 2) AS bals_percentage_2022, \\\n",
        "        (COUNT(*) * (extras + runs_of_bat)) AS score_collected_2022, \\\n",
        "        NULL AS number_of_balls_2023, \\\n",
        "        NULL AS bals_percentage_2023, \\\n",
        "        NULL AS score_collected_2023, \\\n",
        "        NULL AS number_of_balls_2024, \\\n",
        "        NULL AS bals_percentage_2024, \\\n",
        "        NULL AS score_collected_2024 \\\n",
        "    FROM \\\n",
        "        ipl_2022 \\\n",
        "    GROUP BY \\\n",
        "        run \\\n",
        "    UNION ALL \\\n",
        "    SELECT \\\n",
        "        (extras + runs_of_bat) AS run, \\\n",
        "        NULL AS number_of_balls_2022, \\\n",
        "        NULL AS bals_percentage_2022, \\\n",
        "        NULL AS score_collected_2022, \\\n",
        "        COUNT(*) AS number_of_balls_2023, \\\n",
        "        ROUND(((COUNT(*) / (SELECT COUNT(*) FROM ipl_2023)) * 100), 2) AS bals_percentage_2023, \\\n",
        "        (COUNT(*) * (extras + runs_of_bat)) AS score_collected_2023, \\\n",
        "        NULL AS number_of_balls_2024, \\\n",
        "        NULL AS bals_percentage_2024, \\\n",
        "        NULL AS score_collected_2024 \\\n",
        "    FROM \\\n",
        "        ipl_2023 \\\n",
        "    GROUP BY \\\n",
        "        run \\\n",
        "    UNION ALL \\\n",
        "    SELECT \\\n",
        "        (extras + runs_of_bat) AS run, \\\n",
        "        NULL AS number_of_balls_2022, \\\n",
        "        NULL AS bals_percentage_2022, \\\n",
        "        NULL AS score_collected_2022, \\\n",
        "        NULL AS number_of_balls_2023, \\\n",
        "        NULL AS bals_percentage_2023, \\\n",
        "        NULL AS score_collected_2023, \\\n",
        "        COUNT(*) AS number_of_balls_2024, \\\n",
        "        ROUND(((COUNT(*) / (SELECT COUNT(*) FROM ipl_2024)) * 100), 2) AS bals_percentage_2024, \\\n",
        "        (COUNT(*) * (extras + runs_of_bat)) AS score_collected_2024 \\\n",
        "    FROM \\\n",
        "        ipl_2024 \\\n",
        "    GROUP BY \\\n",
        "        run \\\n",
        ") AS combined_results \\\n",
        "GROUP BY \\\n",
        "    run \\\n",
        "ORDER BY \\\n",
        "    run;\\\n",
        "\").show()\n"
      ],
      "metadata": {
        "id": "bzzEfbAZLLz4",
        "colab": {
          "base_uri": "https://localhost:8080/"
        },
        "outputId": "8275b3fe-b22f-4d0b-ad79-860b3463731a"
      },
      "execution_count": 15,
      "outputs": [
        {
          "output_type": "stream",
          "name": "stdout",
          "text": [
            "+---+--------------------+--------------------+--------------------+\n",
            "|run|bals_percentage_2022|bals_percentage_2023|bals_percentage_2024|\n",
            "+---+--------------------+--------------------+--------------------+\n",
            "|  0|               35.48|               32.56|               30.51|\n",
            "|  1|               40.57|               41.85|               41.76|\n",
            "|  2|                5.98|                6.48|                6.77|\n",
            "|  3|                0.35|                 0.3|                 0.2|\n",
            "|  4|               11.44|               12.29|               12.93|\n",
            "|  5|                0.25|                0.22|                0.26|\n",
            "|  6|                 5.9|                6.21|                 7.5|\n",
            "|  7|                0.03|                0.08|                0.07|\n",
            "+---+--------------------+--------------------+--------------------+\n",
            "\n"
          ]
        }
      ]
    },
    {
      "cell_type": "markdown",
      "source": [
        "Add matplotlib"
      ],
      "metadata": {
        "id": "MLYCdvnoLrsw"
      }
    },
    {
      "cell_type": "markdown",
      "source": [
        "example bar chart"
      ],
      "metadata": {
        "id": "zs3K4NHbNP7i"
      }
    },
    {
      "cell_type": "markdown",
      "source": [
        "Use spark.sql results"
      ],
      "metadata": {
        "id": "bVsjjtXcMqlw"
      }
    },
    {
      "cell_type": "code",
      "source": [
        "result = spark.sql(\"SELECT \\\n",
        "    run, \\\n",
        "    AVG(bals_percentage_2022) AS bals_percentage_2022, \\\n",
        "    AVG(bals_percentage_2023) AS bals_percentage_2023, \\\n",
        "    AVG(bals_percentage_2024) AS bals_percentage_2024 \\\n",
        "FROM ( \\\n",
        "    SELECT \\\n",
        "        (extras + runs_of_bat) AS run, \\\n",
        "        COUNT(*) AS number_of_balls_2022, \\\n",
        "        ROUND(((COUNT(*) / (SELECT COUNT(*) FROM ipl_2022)) * 100), 2) AS bals_percentage_2022, \\\n",
        "        (COUNT(*) * (extras + runs_of_bat)) AS score_collected_2022, \\\n",
        "        NULL AS number_of_balls_2023, \\\n",
        "        NULL AS bals_percentage_2023, \\\n",
        "        NULL AS score_collected_2023, \\\n",
        "        NULL AS number_of_balls_2024, \\\n",
        "        NULL AS bals_percentage_2024, \\\n",
        "        NULL AS score_collected_2024 \\\n",
        "    FROM \\\n",
        "        ipl_2022 \\\n",
        "    GROUP BY \\\n",
        "        run \\\n",
        "    UNION ALL \\\n",
        "    SELECT \\\n",
        "        (extras + runs_of_bat) AS run, \\\n",
        "        NULL AS number_of_balls_2022, \\\n",
        "        NULL AS bals_percentage_2022, \\\n",
        "        NULL AS score_collected_2022, \\\n",
        "        COUNT(*) AS number_of_balls_2023, \\\n",
        "        ROUND(((COUNT(*) / (SELECT COUNT(*) FROM ipl_2023)) * 100), 2) AS bals_percentage_2023, \\\n",
        "        (COUNT(*) * (extras + runs_of_bat)) AS score_collected_2023, \\\n",
        "        NULL AS number_of_balls_2024, \\\n",
        "        NULL AS bals_percentage_2024, \\\n",
        "        NULL AS score_collected_2024 \\\n",
        "    FROM \\\n",
        "        ipl_2023 \\\n",
        "    GROUP BY \\\n",
        "        run \\\n",
        "    UNION ALL \\\n",
        "    SELECT \\\n",
        "        (extras + runs_of_bat) AS run, \\\n",
        "        NULL AS number_of_balls_2022, \\\n",
        "        NULL AS bals_percentage_2022, \\\n",
        "        NULL AS score_collected_2022, \\\n",
        "        NULL AS number_of_balls_2023, \\\n",
        "        NULL AS bals_percentage_2023, \\\n",
        "        NULL AS score_collected_2023, \\\n",
        "        COUNT(*) AS number_of_balls_2024, \\\n",
        "        ROUND(((COUNT(*) / (SELECT COUNT(*) FROM ipl_2024)) * 100), 2) AS bals_percentage_2024, \\\n",
        "        (COUNT(*) * (extras + runs_of_bat)) AS score_collected_2024 \\\n",
        "    FROM \\\n",
        "        ipl_2024 \\\n",
        "    GROUP BY \\\n",
        "        run \\\n",
        ") AS combined_results \\\n",
        "GROUP BY \\\n",
        "    run \\\n",
        "ORDER BY \\\n",
        "    run;\\\n",
        "\").collect()"
      ],
      "metadata": {
        "id": "Hxw2m-v5Mt14"
      },
      "execution_count": 16,
      "outputs": []
    },
    {
      "cell_type": "code",
      "source": [
        "years = ['2022', '2023', '2024']\n",
        "result"
      ],
      "metadata": {
        "id": "rXAGqwvIM1RA",
        "colab": {
          "base_uri": "https://localhost:8080/"
        },
        "outputId": "6e12afb4-32bb-4ed4-cb00-f90e0549a57f"
      },
      "execution_count": 17,
      "outputs": [
        {
          "output_type": "execute_result",
          "data": {
            "text/plain": [
              "[Row(run=0, bals_percentage_2022=35.48, bals_percentage_2023=32.56, bals_percentage_2024=30.51),\n",
              " Row(run=1, bals_percentage_2022=40.57, bals_percentage_2023=41.85, bals_percentage_2024=41.76),\n",
              " Row(run=2, bals_percentage_2022=5.98, bals_percentage_2023=6.48, bals_percentage_2024=6.77),\n",
              " Row(run=3, bals_percentage_2022=0.35, bals_percentage_2023=0.3, bals_percentage_2024=0.2),\n",
              " Row(run=4, bals_percentage_2022=11.44, bals_percentage_2023=12.29, bals_percentage_2024=12.93),\n",
              " Row(run=5, bals_percentage_2022=0.25, bals_percentage_2023=0.22, bals_percentage_2024=0.26),\n",
              " Row(run=6, bals_percentage_2022=5.9, bals_percentage_2023=6.21, bals_percentage_2024=7.5),\n",
              " Row(run=7, bals_percentage_2022=0.03, bals_percentage_2023=0.08, bals_percentage_2024=0.07)]"
            ]
          },
          "metadata": {},
          "execution_count": 17
        }
      ]
    },
    {
      "cell_type": "markdown",
      "source": [
        "# This is an extraction of each scores. it shows that the frequency of getting a boundary have increased."
      ],
      "metadata": {
        "id": "AoxmvvItlst_"
      }
    },
    {
      "cell_type": "code",
      "source": [
        "import matplotlib.pyplot as plt\n",
        "import math\n",
        "\n",
        "colors = ['#f06c62', '#39fc03', '#0320fc']\n",
        "width = 0.25\n",
        "\n",
        "for runs in result:\n",
        "  run_score = runs[0]\n",
        "  for i in range(len(years)):\n",
        "    year = years[i]\n",
        "    plt.bar((run_score + width * i),\n",
        "            # math.log(runs[i+1]*100),\n",
        "            (runs[i+1]),\n",
        "            width,\n",
        "            label = year,\n",
        "            color = colors[i % len(colors)])\n",
        "\n",
        "plt.xlabel('Run')\n",
        "plt.ylabel('Ball Averages')\n",
        "plt.title('Ball Averages by Run per year')\n",
        "plt.yscale('log')\n",
        "# plt.xticks(index + bar_width, years)\n",
        "plt.legend(['2022','2023','2024'])\n",
        "# plt.grid(True, which=\"both\", linestyle='-.')\n",
        "\n",
        "plt.tight_layout()\n",
        "plt.show()"
      ],
      "metadata": {
        "id": "8kDzsHrvatlX",
        "colab": {
          "base_uri": "https://localhost:8080/",
          "height": 487
        },
        "outputId": "695e587a-505d-48d2-fd0b-72b546b0d872"
      },
      "execution_count": 18,
      "outputs": [
        {
          "output_type": "display_data",
          "data": {
            "text/plain": [
              "<Figure size 640x480 with 1 Axes>"
            ],
            "image/png": "[encoded data removed]"
          },
          "metadata": {}
        }
      ]
    },
    {
      "cell_type": "code",
      "source": [
        "d = spark.sql(\"SELECT DISTINCT druns, extras, wide, legbyes, byes, noballs, extra_druns, off_bat_druns, (extra_druns + off_bat_druns) AS runs FROM ipl_2022 ORDER BY druns ASC \").collect()"
      ],
      "metadata": {
        "id": "4Z8S41mH7tJT"
      },
      "execution_count": 50,
      "outputs": []
    },
    {
      "cell_type": "code",
      "source": [
        "d\n"
      ],
      "metadata": {
        "colab": {
          "base_uri": "https://localhost:8080/"
        },
        "id": "SfQXWyVrB8h3",
        "outputId": "9b2c682b-8bfc-40b8-d341-703bf0757e11"
      },
      "execution_count": 51,
      "outputs": [
        {
          "output_type": "execute_result",
          "data": {
            "text/plain": [
              "[Row(druns='0', extras=0, wide=0, legbyes=0, byes=0, noballs=0, extra_druns=0, off_bat_druns=0, runs=0),\n",
              " Row(druns='1', extras=0, wide=0, legbyes=0, byes=0, noballs=0, extra_druns=0, off_bat_druns=1, runs=1),\n",
              " Row(druns='2', extras=0, wide=0, legbyes=0, byes=0, noballs=0, extra_druns=0, off_bat_druns=2, runs=2),\n",
              " Row(druns='3', extras=0, wide=0, legbyes=0, byes=0, noballs=0, extra_druns=0, off_bat_druns=3, runs=3),\n",
              " Row(druns='4', extras=0, wide=0, legbyes=0, byes=0, noballs=0, extra_druns=0, off_bat_druns=4, runs=4),\n",
              " Row(druns='6', extras=0, wide=0, legbyes=0, byes=0, noballs=0, extra_druns=0, off_bat_druns=6, runs=6),\n",
              " Row(druns='B1', extras=1, wide=0, legbyes=0, byes=1, noballs=0, extra_druns=1, off_bat_druns=0, runs=1),\n",
              " Row(druns='B2', extras=2, wide=0, legbyes=0, byes=1, noballs=0, extra_druns=2, off_bat_druns=0, runs=2),\n",
              " Row(druns='B4', extras=4, wide=0, legbyes=0, byes=1, noballs=0, extra_druns=4, off_bat_druns=0, runs=4),\n",
              " Row(druns='L1', extras=1, wide=0, legbyes=0, byes=0, noballs=0, extra_druns=1, off_bat_druns=0, runs=1),\n",
              " Row(druns='L1', extras=1, wide=0, legbyes=1, byes=0, noballs=0, extra_druns=1, off_bat_druns=0, runs=1),\n",
              " Row(druns='L2', extras=2, wide=0, legbyes=1, byes=0, noballs=0, extra_druns=2, off_bat_druns=0, runs=2),\n",
              " Row(druns='L4', extras=4, wide=0, legbyes=1, byes=0, noballs=0, extra_druns=4, off_bat_druns=0, runs=4),\n",
              " Row(druns='N', extras=1, wide=0, legbyes=0, byes=0, noballs=1, extra_druns=1, off_bat_druns=0, runs=1),\n",
              " Row(druns='N1', extras=1, wide=0, legbyes=0, byes=0, noballs=1, extra_druns=1, off_bat_druns=1, runs=2),\n",
              " Row(druns='N2', extras=1, wide=0, legbyes=0, byes=0, noballs=1, extra_druns=1, off_bat_druns=2, runs=3),\n",
              " Row(druns='N4', extras=1, wide=0, legbyes=0, byes=0, noballs=1, extra_druns=1, off_bat_druns=4, runs=5),\n",
              " Row(druns='N6', extras=1, wide=0, legbyes=0, byes=0, noballs=1, extra_druns=1, off_bat_druns=6, runs=7),\n",
              " Row(druns='NB1', extras=2, wide=0, legbyes=0, byes=0, noballs=1, extra_druns=2, off_bat_druns=0, runs=2),\n",
              " Row(druns='NB4', extras=5, wide=0, legbyes=0, byes=0, noballs=1, extra_druns=5, off_bat_druns=0, runs=5),\n",
              " Row(druns='W', extras=0, wide=0, legbyes=0, byes=0, noballs=0, extra_druns=0, off_bat_druns=0, runs=0),\n",
              " Row(druns='W1', extras=0, wide=0, legbyes=0, byes=0, noballs=0, extra_druns=0, off_bat_druns=1, runs=1),\n",
              " Row(druns='W2', extras=0, wide=0, legbyes=0, byes=0, noballs=0, extra_druns=0, off_bat_druns=2, runs=2),\n",
              " Row(druns='WN', extras=1, wide=0, legbyes=0, byes=0, noballs=1, extra_druns=1, off_bat_druns=0, runs=1),\n",
              " Row(druns='WN1', extras=1, wide=0, legbyes=0, byes=0, noballs=1, extra_druns=1, off_bat_druns=1, runs=2),\n",
              " Row(druns='WWd', extras=1, wide=0, legbyes=0, byes=0, noballs=0, extra_druns=1, off_bat_druns=0, runs=1),\n",
              " Row(druns='WWd', extras=1, wide=1, legbyes=0, byes=0, noballs=0, extra_druns=1, off_bat_druns=0, runs=1),\n",
              " Row(druns='Wd', extras=1, wide=1, legbyes=0, byes=0, noballs=0, extra_druns=1, off_bat_druns=0, runs=1),\n",
              " Row(druns='Wd2', extras=2, wide=1, legbyes=0, byes=0, noballs=0, extra_druns=2, off_bat_druns=0, runs=2),\n",
              " Row(druns='Wd3', extras=3, wide=1, legbyes=0, byes=0, noballs=0, extra_druns=3, off_bat_druns=0, runs=3),\n",
              " Row(druns='Wd5', extras=5, wide=1, legbyes=0, byes=0, noballs=0, extra_druns=5, off_bat_druns=0, runs=5)]"
            ]
          },
          "metadata": {},
          "execution_count": 51
        }
      ]
    },
    {
      "cell_type": "code",
      "source": [
        "# spark.sql(\"SELECT DISTINCT druns FROM ipl_2022 ORDER BY druns ASC \").show()\n",
        "data = [(0), (1), (2), (3), (4), (6), ('B1'), ('B2'), ('B4'), ('L1'), ('L2'), ('L4'), ('N'), ('N1'), ('N2'), ('N4'), ('N6'), ('NB1'), ('NB4'), ('W')]\n"
      ],
      "metadata": {
        "id": "Nr61psWl-hLM"
      },
      "execution_count": 44,
      "outputs": []
    },
    {
      "cell_type": "code",
      "source": [
        "len(data)"
      ],
      "metadata": {
        "colab": {
          "base_uri": "https://localhost:8080/"
        },
        "id": "fSq-TGRcA-gV",
        "outputId": "b0db8065-cf1c-462a-c0dd-3eda3c352111"
      },
      "execution_count": 49,
      "outputs": [
        {
          "output_type": "execute_result",
          "data": {
            "text/plain": [
              "20"
            ]
          },
          "metadata": {},
          "execution_count": 49
        }
      ]
    },
    {
      "cell_type": "markdown",
      "source": [
        "Getting 2022 season data"
      ],
      "metadata": {
        "id": "CXtVZo6fFxub"
      }
    },
    {
      "cell_type": "code",
      "source": [
        "data_2022 = spark.sql(\"SELECT match_no, innings, druns AS druns, (extra_druns + off_bat_druns) AS runs FROM ipl_2022\").collect()"
      ],
      "metadata": {
        "id": "RBLcr1jH5ia6"
      },
      "execution_count": 70,
      "outputs": []
    },
    {
      "cell_type": "code",
      "source": [
        "import numpy as np\n",
        "\n",
        "# global variables\n",
        "current_match_no = 0\n",
        "current_innings = 0\n",
        "result_matrix_2022 = np.zeros((8, 8))\n",
        "index_run_n_1 = 0\n",
        "index_run_n = 0\n",
        "\n",
        "data = [(0), (1), (2), (3), (4),(5),(6), (7)]\n",
        "\n",
        "for row in data_2022:\n",
        "  match_no = row[\"match_no\"]\n",
        "  innings = row[\"innings\"]\n",
        "  runs = row[\"runs\"]\n",
        "\n",
        "  # if (current_match_no != match_no) & (current_innings != innings):\n",
        "  #   current_match_no = match_no\n",
        "  #   current_innings = innings\n",
        "\n",
        "  index_run_n = data.index(runs)\n",
        "  result_matrix_2022[index_run_n_1,index_run_n] += 1\n",
        "\n",
        "  index_run_n_1 = index_run_n"
      ],
      "metadata": {
        "id": "fa59thzn6iqk"
      },
      "execution_count": 71,
      "outputs": []
    },
    {
      "cell_type": "code",
      "source": [
        "matrix = result_matrix_2022\n",
        "min_val = np.min(matrix)\n",
        "max_val = np.max(matrix)\n",
        "normalized_matrix_2022 = (matrix - min_val) / (max_val - min_val)"
      ],
      "metadata": {
        "id": "NsG70ZptDHXk"
      },
      "execution_count": 72,
      "outputs": []
    },
    {
      "cell_type": "code",
      "source": [
        "nrm_log_matrix_2022 = np.log(normalized_matrix_2022)"
      ],
      "metadata": {
        "colab": {
          "base_uri": "https://localhost:8080/"
        },
        "id": "6GJ1b2BfDbUl",
        "outputId": "19ffc5ad-282d-4ed2-e32f-ff83f5a9244d"
      },
      "execution_count": 73,
      "outputs": [
        {
          "output_type": "stream",
          "name": "stderr",
          "text": [
            "<ipython-input-73-9f165142a909>:1: RuntimeWarning: divide by zero encountered in log\n",
            "  nrm_log_matrix_2022 = np.log(normalized_matrix_2022)\n"
          ]
        }
      ]
    },
    {
      "cell_type": "code",
      "source": [
        "plt.imshow(normalized_matrix_2022, cmap='viridis', interpolation='nearest')\n",
        "plt.colorbar()\n",
        "plt.show()"
      ],
      "metadata": {
        "colab": {
          "base_uri": "https://localhost:8080/",
          "height": 435
        },
        "id": "5Nv-KNdhCvUz",
        "outputId": "76f80247-da89-448a-c4f8-4c01a953a378"
      },
      "execution_count": 74,
      "outputs": [
        {
          "output_type": "display_data",
          "data": {
            "text/plain": [
              "<Figure size 640x480 with 2 Axes>"
            ],
            "image/png": "[encoded data removed]"
          },
          "metadata": {}
        }
      ]
    },
    {
      "cell_type": "markdown",
      "source": [
        "Getting 2024 data"
      ],
      "metadata": {
        "id": "7AQEgc5_F5tN"
      }
    },
    {
      "cell_type": "code",
      "source": [
        "data_2024 = spark.sql(\"SELECT match_no, innings, (runs_of_bat + extras) AS runs FROM ipl_2024\").collect()"
      ],
      "metadata": {
        "id": "ElfQt6OqF8uu"
      },
      "execution_count": 76,
      "outputs": []
    },
    {
      "cell_type": "code",
      "source": [
        "# global variables\n",
        "current_match_no = 0\n",
        "current_innings = 0\n",
        "result_matrix_2024 = np.zeros((8, 8))\n",
        "index_run_n_1 = 0\n",
        "index_run_n = 0\n",
        "\n",
        "data = [(0), (1), (2), (3), (4),(5),(6), (7)]\n",
        "\n",
        "for row in data_2024:\n",
        "  match_no = row[\"match_no\"]\n",
        "  innings = row[\"innings\"]\n",
        "  runs = row[\"runs\"]\n",
        "\n",
        "  # if (current_match_no != match_no) & (current_innings != innings):\n",
        "  #   current_match_no = match_no\n",
        "  #   current_innings = innings\n",
        "\n",
        "  index_run_n = data.index(runs)\n",
        "  result_matrix_2024[index_run_n_1,index_run_n] += 1\n",
        "\n",
        "  index_run_n_1 = index_run_n"
      ],
      "metadata": {
        "id": "Dl-5EDufGTOa"
      },
      "execution_count": 77,
      "outputs": []
    },
    {
      "cell_type": "code",
      "source": [
        "matrix = result_matrix_2024\n",
        "min_val = np.min(matrix)\n",
        "max_val = np.max(matrix)\n",
        "normalized_matrix_2024 = (matrix - min_val) / (max_val - min_val)"
      ],
      "metadata": {
        "id": "b1AYs3YFGZj7"
      },
      "execution_count": 78,
      "outputs": []
    },
    {
      "cell_type": "code",
      "source": [
        "plt.imshow(normalized_matrix_2024, cmap='viridis', interpolation='nearest')\n",
        "plt.colorbar()\n",
        "plt.show()"
      ],
      "metadata": {
        "colab": {
          "base_uri": "https://localhost:8080/",
          "height": 435
        },
        "id": "JLIdsbfkGbyk",
        "outputId": "1fa0b7ab-2149-4aea-f47e-401e9cee49f9"
      },
      "execution_count": 79,
      "outputs": [
        {
          "output_type": "display_data",
          "data": {
            "text/plain": [
              "<Figure size 640x480 with 2 Axes>"
            ],
            "image/png": "[encoded data removed]"
          },
          "metadata": {}
        }
      ]
    },
    {
      "cell_type": "markdown",
      "source": [
        "COMPARE RESULTS"
      ],
      "metadata": {
        "id": "2cgFE2n6Gjla"
      }
    },
    {
      "cell_type": "code",
      "source": [
        "plt.imshow(normalized_matrix_2022, cmap='viridis', interpolation='nearest')\n",
        "plt.colorbar()\n",
        "plt.show()\n",
        "\n",
        "plt.imshow(normalized_matrix_2024, cmap='viridis', interpolation='nearest')\n",
        "plt.colorbar()\n",
        "plt.show()"
      ],
      "metadata": {
        "colab": {
          "base_uri": "https://localhost:8080/",
          "height": 853
        },
        "id": "tSVMDKrMGl26",
        "outputId": "bed9de0c-2071-4cd0-f2f7-e55200374ec5"
      },
      "execution_count": 80,
      "outputs": [
        {
          "output_type": "display_data",
          "data": {
            "text/plain": [
              "<Figure size 640x480 with 2 Axes>"
            ],
            "image/png": "[encoded data removed]"
          },
          "metadata": {}
        },
        {
          "output_type": "display_data",
          "data": {
            "text/plain": [
              "<Figure size 640x480 with 2 Axes>"
            ],
            "image/png": "[encoded data removed]"
          },
          "metadata": {}
        }
      ]
    },
    {
      "cell_type": "markdown",
      "source": [
        "subsctract 2024 - 2022"
      ],
      "metadata": {
        "id": "Egke-GKJGyNM"
      }
    },
    {
      "cell_type": "code",
      "source": [
        "diff_matrix = normalized_matrix_2024 - normalized_matrix_2022\n",
        "\n",
        "plt.imshow(np.log(diff_matrix), cmap='viridis', interpolation='nearest')\n",
        "plt.colorbar()\n",
        "plt.show()"
      ],
      "metadata": {
        "colab": {
          "base_uri": "https://localhost:8080/",
          "height": 504
        },
        "id": "58sDuUjsGx5U",
        "outputId": "c7880576-2f1b-4eb4-c13d-38307956bd28"
      },
      "execution_count": 82,
      "outputs": [
        {
          "output_type": "stream",
          "name": "stderr",
          "text": [
            "<ipython-input-82-c2daef8a0902>:3: RuntimeWarning: divide by zero encountered in log\n",
            "  plt.imshow(np.log(diff_matrix), cmap='viridis', interpolation='nearest')\n",
            "<ipython-input-82-c2daef8a0902>:3: RuntimeWarning: invalid value encountered in log\n",
            "  plt.imshow(np.log(diff_matrix), cmap='viridis', interpolation='nearest')\n"
          ]
        },
        {
          "output_type": "display_data",
          "data": {
            "text/plain": [
              "<Figure size 640x480 with 2 Axes>"
            ],
            "image/png": "[encoded data removed]"
          },
          "metadata": {}
        }
      ]
    }
  ]
}