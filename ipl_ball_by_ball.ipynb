{
  "nbformat": 4,
  "nbformat_minor": 0,
  "metadata": {
    "colab": {
      "provenance": [],
      "authorship_tag": "ABX9TyMPD0cnK1RDm5A45s5eQBcZ",
      "include_colab_link": true
    },
    "kernelspec": {
      "name": "python3",
      "display_name": "Python 3"
    },
    "language_info": {
      "name": "python"
    }
  },
  "cells": [
    {
      "cell_type": "markdown",
      "metadata": {
        "id": "view-in-github",
        "colab_type": "text"
      },
      "source": [
        "<a href=\"https://colab.research.google.com/github/DarshanaUOP/colabs-data-analysis/blob/main/ipl_ball_by_ball.ipynb\" target=\"_parent\"><img src=\"https://colab.research.google.com/assets/colab-badge.svg\" alt=\"Open In Colab\"/></a>"
      ]
    },
    {
      "cell_type": "code",
      "execution_count": 1,
      "metadata": {
        "colab": {
          "base_uri": "https://localhost:8080/"
        },
        "id": "ft-BhUT-r_XY",
        "outputId": "cf8c191b-1998-4e93-c31a-d37da886a65b"
      },
      "outputs": [
        {
          "output_type": "stream",
          "name": "stdout",
          "text": [
            "\r0% [Working]\r            \rGet:1 https://cloud.r-project.org/bin/linux/ubuntu jammy-cran40/ InRelease [3,626 B]\n",
            "\r0% [Connecting to archive.ubuntu.com (185.125.190.39)] [Waiting for headers] [1 InRelease 3,626 B/3,\r0% [Connecting to archive.ubuntu.com (185.125.190.39)] [Waiting for headers] [Connected to ppa.launc\r                                                                                                    \rHit:2 https://developer.download.nvidia.com/compute/cuda/repos/ubuntu2204/x86_64  InRelease\n",
            "Get:3 http://security.ubuntu.com/ubuntu jammy-security InRelease [110 kB]\n",
            "Hit:4 http://archive.ubuntu.com/ubuntu jammy InRelease\n",
            "Get:5 https://cloud.r-project.org/bin/linux/ubuntu jammy-cran40/ Packages [52.9 kB]\n",
            "Get:6 http://archive.ubuntu.com/ubuntu jammy-updates InRelease [119 kB]\n",
            "Hit:7 https://ppa.launchpadcontent.net/c2d4u.team/c2d4u4.0+/ubuntu jammy InRelease\n",
            "Get:8 https://ppa.launchpadcontent.net/deadsnakes/ppa/ubuntu jammy InRelease [18.1 kB]\n",
            "Get:9 https://ppa.launchpadcontent.net/graphics-drivers/ppa/ubuntu jammy InRelease [24.3 kB]\n",
            "Hit:10 http://archive.ubuntu.com/ubuntu jammy-backports InRelease\n",
            "Hit:11 https://ppa.launchpadcontent.net/ubuntugis/ppa/ubuntu jammy InRelease\n",
            "Get:12 http://security.ubuntu.com/ubuntu jammy-security/universe amd64 Packages [1,077 kB]\n",
            "Get:13 https://ppa.launchpadcontent.net/deadsnakes/ppa/ubuntu jammy/main amd64 Packages [27.8 kB]\n",
            "Get:14 http://archive.ubuntu.com/ubuntu jammy-updates/main amd64 Packages [2,036 kB]\n",
            "Get:15 https://ppa.launchpadcontent.net/graphics-drivers/ppa/ubuntu jammy/main amd64 Packages [44.2 kB]\n",
            "Get:16 http://security.ubuntu.com/ubuntu jammy-security/main amd64 Packages [1,756 kB]\n",
            "Get:17 http://archive.ubuntu.com/ubuntu jammy-updates/universe amd64 Packages [1,370 kB]\n",
            "Fetched 6,640 kB in 2s (3,583 kB/s)\n",
            "Reading package lists... Done\n",
            "Collecting pyspark\n",
            "  Downloading pyspark-3.5.1.tar.gz (317.0 MB)\n",
            "\u001b[2K     \u001b[90m━━━━━━━━━━━━━━━━━━━━━━━━━━━━━━━━━━━━━━━━\u001b[0m \u001b[32m317.0/317.0 MB\u001b[0m \u001b[31m3.5 MB/s\u001b[0m eta \u001b[36m0:00:00\u001b[0m\n",
            "\u001b[?25h  Preparing metadata (setup.py) ... \u001b[?25l\u001b[?25hdone\n",
            "Requirement already satisfied: py4j==0.10.9.7 in /usr/local/lib/python3.10/dist-packages (from pyspark) (0.10.9.7)\n",
            "Building wheels for collected packages: pyspark\n",
            "  Building wheel for pyspark (setup.py) ... \u001b[?25l\u001b[?25hdone\n",
            "  Created wheel for pyspark: filename=pyspark-3.5.1-py2.py3-none-any.whl size=317488491 sha256=1da762b2f9efec069e728f1659b5dbdfe001ff83bbfbe4577eaaa3fde98c13d1\n",
            "  Stored in directory: /root/.cache/pip/wheels/80/1d/60/2c256ed38dddce2fdd93be545214a63e02fbd8d74fb0b7f3a6\n",
            "Successfully built pyspark\n",
            "Installing collected packages: pyspark\n",
            "Successfully installed pyspark-3.5.1\n"
          ]
        }
      ],
      "source": [
        "#pre requisist\n",
        "!apt-get update\n",
        "!apt-get install openjdk-8-jdk-headless -qq > /dev/null\n",
        "\n",
        "# Install findspark: Adds Pyspark to sys.path at runtime\n",
        "!pip install -q findspark\n",
        "\n",
        "# Install pyspark\n",
        "!pip install pyspark\n"
      ]
    },
    {
      "cell_type": "code",
      "source": [
        "from google.colab import drive\n",
        "drive.mount('/content/drive')"
      ],
      "metadata": {
        "colab": {
          "base_uri": "https://localhost:8080/"
        },
        "id": "dA54MKU_tFu8",
        "outputId": "5253160f-eecf-4dae-f3ed-bee47e7b229b"
      },
      "execution_count": 2,
      "outputs": [
        {
          "output_type": "stream",
          "name": "stdout",
          "text": [
            "Mounted at /content/drive\n"
          ]
        }
      ]
    },
    {
      "cell_type": "code",
      "source": [
        "from pyspark.sql import SparkSession\n",
        "\n",
        "\n",
        "spark = SparkSession.builder \\\n",
        "    .appName(\"IPL-2022-dataset\") \\\n",
        "    .getOrCreate()\n",
        "\n",
        "# IPL 2022 dataset\n",
        "df = spark.read.csv(\"/content/drive/MyDrive/Colab Notebooks/IPL-ball-by-Ball/dataset/ipl_2022_deliveries.csv\", header=True, inferSchema=True)\n",
        "df.createOrReplaceTempView(\"ipl_2022\")\n",
        "spark.sql(\"SELECT * FROM ipl_2022\").show()\n",
        "\n",
        "# IPL 2023 dataset\n",
        "df3 = spark.read.csv(\"/content/drive/MyDrive/Colab Notebooks/IPL-ball-by-Ball/dataset/ipl_2023_deliveries.csv\", header=True, inferSchema=True)\n",
        "df3.createOrReplaceTempView(\"ipl_2023\")\n",
        "spark.sql(\"SELECT * FROM ipl_2023\").show()\n",
        "\n",
        "# IPL 2024 dataset\n",
        "df3 = spark.read.csv(\"/content/drive/MyDrive/Colab Notebooks/IPL-ball-by-Ball/dataset/ipl_2024_deliveries.csv\", header=True, inferSchema=True)\n",
        "df3.createOrReplaceTempView(\"ipl_2024\")\n",
        "spark.sql(\"SELECT * FROM ipl_2024\").show()\n"
      ],
      "metadata": {
        "colab": {
          "base_uri": "https://localhost:8080/"
        },
        "id": "8U0BXdcrsa8U",
        "outputId": "379e24cd-ae6c-42c5-e7fe-7c0aee4da30b"
      },
      "execution_count": 3,
      "outputs": [
        {
          "output_type": "stream",
          "name": "stdout",
          "text": [
            "+------+------------+--------+--------------------+-------+------------+------------+----+-----------+-------+-------+--------------------+--------------------+--------------------+------------+------------+------------+------------+------------+------------+-----+--------+-----------+------+----+-------+----+-------+-----------+----------------+-----------+-------------+\n",
            "|season|        date|match_id|               venue|innings|batting_team|bowling_team|over|     bowler|striker|   runs|               speed|        description1|        description2|description3|description4|description5|description6|description7|description8|druns|match_no|runs_of_bat|extras|wide|legbyes|byes|noballs|wicket_type|player_dismissed|extra_druns|off_bat_druns|\n",
            "+------+------------+--------+--------------------+-------+------------+------------+----+-----------+-------+-------+--------------------+--------------------+--------------------+------------+------------+------------+------------+------------+------------+-----+--------+-----------+------+----+-------+----+-------+-----------+----------------+-----------+-------------+\n",
            "|  2022|Mar 26, 2022|  202201|Wankhede Stadium,...|      1|         CSK|         KKR| 0.1|Umesh Yadav|Gaikwad|no ball| no ball |  the b...| little movement ...|                NULL|        NULL|        NULL|        NULL|        NULL|        NULL|        NULL|    N|       1|          0|     1|   0|      0|   0|      1|       NULL|            NULL|          1|            0|\n",
            "|  2022|Mar 26, 2022|  202201|Wankhede Stadium,...|      1|         CSK|         KKR| 0.1|Umesh Yadav|Gaikwad|      0| no run |  and he...|                NULL|                NULL|        NULL|        NULL|        NULL|        NULL|        NULL|        NULL|    0|       1|          0|     0|   0|      0|   0|      0|       NULL|            NULL|          0|            0|\n",
            "|  2022|Mar 26, 2022|  202201|Wankhede Stadium,...|      1|         CSK|         KKR| 0.2|Umesh Yadav|Gaikwad|   wide| wide |  spills o...|                NULL|                NULL|        NULL|        NULL|        NULL|        NULL|        NULL|        NULL|   Wd|       1|          0|     1|   1|      0|   0|      0|       NULL|            NULL|          1|            0|\n",
            "|  2022|Mar 26, 2022|  202201|Wankhede Stadium,...|      1|         CSK|         KKR| 0.2|Umesh Yadav|Gaikwad|      0| no run |  back o...|                NULL|                NULL|        NULL|        NULL|        NULL|        NULL|        NULL|        NULL|    0|       1|          0|     0|   0|      0|   0|      0|       NULL|            NULL|          0|            0|\n",
            "|  2022|Mar 26, 2022|  202201|Wankhede Stadium,...|      1|         CSK|         KKR| 0.3|Umesh Yadav|Gaikwad|    out| out Caught by Ni...|                NULL|                NULL|        NULL|        NULL|        NULL|        NULL|        NULL|        NULL|    W|       1|          0|     0|   0|      0|   0|      0|     caught|         Gaikwad|          0|            0|\n",
            "|  2022|Mar 26, 2022|  202201|Wankhede Stadium,...|      1|         CSK|         KKR| 0.4|Umesh Yadav|Uthappa|   wide| wide |  and mr. ...|                NULL|                NULL|        NULL|        NULL|        NULL|        NULL|        NULL|        NULL|   Wd|       1|          0|     1|   1|      0|   0|      0|       NULL|            NULL|          1|            0|\n",
            "|  2022|Mar 26, 2022|  202201|Wankhede Stadium,...|      1|         CSK|         KKR| 0.4|Umesh Yadav|Uthappa|      0| no run |  lookin...|                NULL|                NULL|        NULL|        NULL|        NULL|        NULL|        NULL|        NULL|    0|       1|          0|     0|   0|      0|   0|      0|       NULL|            NULL|          0|            0|\n",
            "|  2022|Mar 26, 2022|  202201|Wankhede Stadium,...|      1|         CSK|         KKR| 0.5|Umesh Yadav|Uthappa|      0| no run |  and de...|                NULL|                NULL|        NULL|        NULL|        NULL|        NULL|        NULL|        NULL|    0|       1|          0|     0|   0|      0|   0|      0|       NULL|            NULL|          0|            0|\n",
            "|  2022|Mar 26, 2022|  202201|Wankhede Stadium,...|      1|         CSK|         KKR| 0.6|Umesh Yadav|Uthappa|      0| no run |  jabs t...|                NULL|                NULL|        NULL|        NULL|        NULL|        NULL|        NULL|        NULL|    0|       1|          0|     0|   0|      0|   0|      0|       NULL|            NULL|          0|            0|\n",
            "|  2022|Mar 26, 2022|  202201|Wankhede Stadium,...|      1|         CSK|         KKR| 1.1|Shivam Mavi| Conway|      0| no run |  taps t...|                NULL|                NULL|        NULL|        NULL|        NULL|        NULL|        NULL|        NULL|    0|       1|          0|     0|   0|      0|   0|      0|       NULL|            NULL|          0|            0|\n",
            "|  2022|Mar 26, 2022|  202201|Wankhede Stadium,...|      1|         CSK|         KKR| 1.2|Shivam Mavi| Conway|      0| no run |  short ...|        angling away| Conway looks to ...|        NULL|        NULL|        NULL|        NULL|        NULL|        NULL|    0|       1|          0|     0|   0|      0|   0|      0|       NULL|            NULL|          0|            0|\n",
            "|  2022|Mar 26, 2022|  202201|Wankhede Stadium,...|      1|         CSK|         KKR| 1.3|Shivam Mavi| Conway|      1| 1 run |  short ball| Conway chops the...|                NULL|        NULL|        NULL|        NULL|        NULL|        NULL|        NULL|    1|       1|          1|     0|   0|      0|   0|      0|       NULL|            NULL|          0|            1|\n",
            "|  2022|Mar 26, 2022|  202201|Wankhede Stadium,...|      1|         CSK|         KKR| 1.4|Shivam Mavi|Uthappa|      4| FOUR |  back of ...| Uthappa whips th...|                NULL|        NULL|        NULL|        NULL|        NULL|        NULL|        NULL|    4|       1|          4|     0|   0|      0|   0|      0|       NULL|            NULL|          0|            4|\n",
            "|  2022|Mar 26, 2022|  202201|Wankhede Stadium,...|      1|         CSK|         KKR| 1.5|Shivam Mavi|Uthappa|      0| no run |  fuller...| Uthappa stabs it...|                NULL|        NULL|        NULL|        NULL|        NULL|        NULL|        NULL|    0|       1|          0|     0|   0|      0|   0|      0|       NULL|            NULL|          0|            0|\n",
            "|  2022|Mar 26, 2022|  202201|Wankhede Stadium,...|      1|         CSK|         KKR| 1.6|Shivam Mavi|Uthappa|      0| no run |  fuller...| Uthappa drives t...|                NULL|        NULL|        NULL|        NULL|        NULL|        NULL|        NULL|    0|       1|          0|     0|   0|      0|   0|      0|       NULL|            NULL|          0|            0|\n",
            "|  2022|Mar 26, 2022|  202201|Wankhede Stadium,...|      1|         CSK|         KKR| 2.1|Umesh Yadav| Conway|      1| 1 run |  waits o...|                NULL|                NULL|        NULL|        NULL|        NULL|        NULL|        NULL|        NULL|    1|       1|          1|     0|   0|      0|   0|      0|       NULL|            NULL|          0|            1|\n",
            "|  2022|Mar 26, 2022|  202201|Wankhede Stadium,...|      1|         CSK|         KKR| 2.2|Umesh Yadav|Uthappa|      6| SIX |  whipped f...| Uthappa picks it...|                NULL|        NULL|        NULL|        NULL|        NULL|        NULL|        NULL|    6|       1|          6|     0|   0|      0|   0|      0|       NULL|            NULL|          0|            6|\n",
            "|  2022|Mar 26, 2022|  202201|Wankhede Stadium,...|      1|         CSK|         KKR| 2.3|Umesh Yadav|Uthappa|      0| no run |  length...| Uthappa pats the...|                NULL|        NULL|        NULL|        NULL|        NULL|        NULL|        NULL|    0|       1|          0|     0|   0|      0|   0|      0|       NULL|            NULL|          0|            0|\n",
            "|  2022|Mar 26, 2022|  202201|Wankhede Stadium,...|      1|         CSK|         KKR| 2.4|Umesh Yadav|Uthappa|      0| no run |  length...| Uthappa checks h...|                NULL|        NULL|        NULL|        NULL|        NULL|        NULL|        NULL|    0|       1|          0|     0|   0|      0|   0|      0|       NULL|            NULL|          0|            0|\n",
            "|  2022|Mar 26, 2022|  202201|Wankhede Stadium,...|      1|         CSK|         KKR| 2.5|Umesh Yadav|Uthappa|      1| 1 run |  opens t...|                NULL|                NULL|        NULL|        NULL|        NULL|        NULL|        NULL|        NULL|    1|       1|          1|     0|   0|      0|   0|      0|       NULL|            NULL|          0|            1|\n",
            "+------+------------+--------+--------------------+-------+------------+------------+----+-----------+-------+-------+--------------------+--------------------+--------------------+------------+------------+------------+------------+------------+------------+-----+--------+-----------+------+----+-------+----+-------+-----------+----------------+-----------+-------------+\n",
            "only showing top 20 rows\n",
            "\n",
            "+--------+------+--------+------------+--------------------+------------+------------+-------+----+---------+-------------+-----------+------+----+-------+----+-------+-----------+----------------+\n",
            "|match_id|season|match_no|        date|               venue|batting_team|bowling_team|innings|over|  striker|       bowler|runs_of_bat|extras|wide|legbyes|byes|noballs|wicket_type|player_dismissed|\n",
            "+--------+------+--------+------------+--------------------+------------+------------+-------+----+---------+-------------+-----------+------+----+-------+----+-------+-----------+----------------+\n",
            "|  202301|  2023|       1|Mar 31, 2023|Narendra Modi Sta...|         CSK|          GT|      1| 0.1|   Conway|        Shami|          0|     0|   0|      0|   0|      0|       NULL|            NULL|\n",
            "|  202301|  2023|       1|Mar 31, 2023|Narendra Modi Sta...|         CSK|          GT|      1| 0.2|   Conway|        Shami|          0|     1|   0|      1|   0|      0|       NULL|            NULL|\n",
            "|  202301|  2023|       1|Mar 31, 2023|Narendra Modi Sta...|         CSK|          GT|      1| 0.3|  Gaikwad|        Shami|          0|     0|   0|      0|   0|      0|       NULL|            NULL|\n",
            "|  202301|  2023|       1|Mar 31, 2023|Narendra Modi Sta...|         CSK|          GT|      1| 0.4|  Gaikwad|        Shami|          1|     0|   0|      0|   0|      0|       NULL|            NULL|\n",
            "|  202301|  2023|       1|Mar 31, 2023|Narendra Modi Sta...|         CSK|          GT|      1| 0.5|   Conway|        Shami|          0|     0|   0|      0|   0|      0|       NULL|            NULL|\n",
            "|  202301|  2023|       1|Mar 31, 2023|Narendra Modi Sta...|         CSK|          GT|      1| 0.6|   Conway|        Shami|          0|     0|   0|      0|   0|      0|       NULL|            NULL|\n",
            "|  202301|  2023|       1|Mar 31, 2023|Narendra Modi Sta...|         CSK|          GT|      1| 1.1|  Gaikwad|Hardik Pandya|          4|     0|   0|      0|   0|      0|       NULL|            NULL|\n",
            "|  202301|  2023|       1|Mar 31, 2023|Narendra Modi Sta...|         CSK|          GT|      1| 1.2|  Gaikwad|Hardik Pandya|          0|     0|   0|      0|   0|      0|       NULL|            NULL|\n",
            "|  202301|  2023|       1|Mar 31, 2023|Narendra Modi Sta...|         CSK|          GT|      1| 1.3|  Gaikwad|Hardik Pandya|          4|     0|   0|      0|   0|      0|       NULL|            NULL|\n",
            "|  202301|  2023|       1|Mar 31, 2023|Narendra Modi Sta...|         CSK|          GT|      1| 1.4|  Gaikwad|Hardik Pandya|          1|     0|   0|      0|   0|      0|       NULL|            NULL|\n",
            "|  202301|  2023|       1|Mar 31, 2023|Narendra Modi Sta...|         CSK|          GT|      1| 1.5|   Conway|Hardik Pandya|          1|     0|   0|      0|   0|      0|       NULL|            NULL|\n",
            "|  202301|  2023|       1|Mar 31, 2023|Narendra Modi Sta...|         CSK|          GT|      1| 1.6|  Gaikwad|Hardik Pandya|          1|     0|   0|      0|   0|      0|       NULL|            NULL|\n",
            "|  202301|  2023|       1|Mar 31, 2023|Narendra Modi Sta...|         CSK|          GT|      1| 2.1|  Gaikwad|        Shami|          1|     0|   0|      0|   0|      0|       NULL|            NULL|\n",
            "|  202301|  2023|       1|Mar 31, 2023|Narendra Modi Sta...|         CSK|          GT|      1| 2.2|   Conway|        Shami|          0|     0|   0|      0|   0|      0|     bowled|          Conway|\n",
            "|  202301|  2023|       1|Mar 31, 2023|Narendra Modi Sta...|         CSK|          GT|      1| 2.3|Moeen Ali|        Shami|          0|     0|   0|      0|   0|      0|       NULL|            NULL|\n",
            "|  202301|  2023|       1|Mar 31, 2023|Narendra Modi Sta...|         CSK|          GT|      1| 2.4|Moeen Ali|        Shami|          0|     0|   0|      0|   0|      0|       NULL|            NULL|\n",
            "|  202301|  2023|       1|Mar 31, 2023|Narendra Modi Sta...|         CSK|          GT|      1| 2.5|Moeen Ali|        Shami|          0|     0|   0|      0|   0|      0|       NULL|            NULL|\n",
            "|  202301|  2023|       1|Mar 31, 2023|Narendra Modi Sta...|         CSK|          GT|      1| 2.6|Moeen Ali|        Shami|          0|     0|   0|      0|   0|      0|       NULL|            NULL|\n",
            "|  202301|  2023|       1|Mar 31, 2023|Narendra Modi Sta...|         CSK|          GT|      1| 3.1|  Gaikwad|Joshua Little|          6|     0|   0|      0|   0|      0|       NULL|            NULL|\n",
            "|  202301|  2023|       1|Mar 31, 2023|Narendra Modi Sta...|         CSK|          GT|      1| 3.2|  Gaikwad|Joshua Little|          4|     0|   0|      0|   0|      0|       NULL|            NULL|\n",
            "+--------+------+--------+------------+--------------------+------------+------------+-------+----+---------+-------------+-----------+------+----+-------+----+-------+-----------+----------------+\n",
            "only showing top 20 rows\n",
            "\n",
            "+--------+------+--------+------------+--------------------+------------+------------+-------+----+----------+----------------+-----------+------+----+-------+----+-------+-----------+----------------+\n",
            "|match_id|season|match_no|        date|               venue|batting_team|bowling_team|innings|over|   striker|          bowler|runs_of_bat|extras|wide|legbyes|byes|noballs|wicket_type|player_dismissed|\n",
            "+--------+------+--------+------------+--------------------+------------+------------+-------+----+----------+----------------+-----------+------+----+-------+----+-------+-----------+----------------+\n",
            "|  202401|  2024|       1|Mar 22, 2024|MA Chidambaram St...|         RCB|         CSK|      1| 0.1|     Kohli|          Chahar|          0|     1|   1|      0|   0|      0|       NULL|            NULL|\n",
            "|  202401|  2024|       1|Mar 22, 2024|MA Chidambaram St...|         RCB|         CSK|      1| 0.1|     Kohli|          Chahar|          1|     0|   0|      0|   0|      0|       NULL|            NULL|\n",
            "|  202401|  2024|       1|Mar 22, 2024|MA Chidambaram St...|         RCB|         CSK|      1| 0.2|du Plessis|          Chahar|          0|     0|   0|      0|   0|      0|       NULL|            NULL|\n",
            "|  202401|  2024|       1|Mar 22, 2024|MA Chidambaram St...|         RCB|         CSK|      1| 0.3|du Plessis|          Chahar|          0|     0|   0|      0|   0|      0|       NULL|            NULL|\n",
            "|  202401|  2024|       1|Mar 22, 2024|MA Chidambaram St...|         RCB|         CSK|      1| 0.4|du Plessis|          Chahar|          0|     0|   0|      0|   0|      0|       NULL|            NULL|\n",
            "|  202401|  2024|       1|Mar 22, 2024|MA Chidambaram St...|         RCB|         CSK|      1| 0.5|du Plessis|          Chahar|          4|     0|   0|      0|   0|      0|       NULL|            NULL|\n",
            "|  202401|  2024|       1|Mar 22, 2024|MA Chidambaram St...|         RCB|         CSK|      1| 0.6|du Plessis|          Chahar|          1|     0|   0|      0|   0|      0|       NULL|            NULL|\n",
            "|  202401|  2024|       1|Mar 22, 2024|MA Chidambaram St...|         RCB|         CSK|      1| 1.1|du Plessis|Tushar Deshpande|          4|     0|   0|      0|   0|      0|       NULL|            NULL|\n",
            "|  202401|  2024|       1|Mar 22, 2024|MA Chidambaram St...|         RCB|         CSK|      1| 1.2|du Plessis|Tushar Deshpande|          0|     0|   0|      0|   0|      0|       NULL|            NULL|\n",
            "|  202401|  2024|       1|Mar 22, 2024|MA Chidambaram St...|         RCB|         CSK|      1| 1.3|du Plessis|Tushar Deshpande|          4|     0|   0|      0|   0|      0|       NULL|            NULL|\n",
            "|  202401|  2024|       1|Mar 22, 2024|MA Chidambaram St...|         RCB|         CSK|      1| 1.4|du Plessis|Tushar Deshpande|          0|     0|   0|      0|   0|      0|       NULL|            NULL|\n",
            "|  202401|  2024|       1|Mar 22, 2024|MA Chidambaram St...|         RCB|         CSK|      1| 1.5|du Plessis|Tushar Deshpande|          0|     0|   0|      0|   0|      0|       NULL|            NULL|\n",
            "|  202401|  2024|       1|Mar 22, 2024|MA Chidambaram St...|         RCB|         CSK|      1| 1.6|du Plessis|Tushar Deshpande|          1|     0|   0|      0|   0|      0|       NULL|            NULL|\n",
            "|  202401|  2024|       1|Mar 22, 2024|MA Chidambaram St...|         RCB|         CSK|      1| 2.1|du Plessis|          Chahar|          4|     0|   0|      0|   0|      0|       NULL|            NULL|\n",
            "|  202401|  2024|       1|Mar 22, 2024|MA Chidambaram St...|         RCB|         CSK|      1| 2.2|du Plessis|          Chahar|          0|     1|   1|      0|   0|      0|       NULL|            NULL|\n",
            "|  202401|  2024|       1|Mar 22, 2024|MA Chidambaram St...|         RCB|         CSK|      1| 2.2|du Plessis|          Chahar|          0|     0|   0|      0|   0|      0|       NULL|            NULL|\n",
            "|  202401|  2024|       1|Mar 22, 2024|MA Chidambaram St...|         RCB|         CSK|      1| 2.3|du Plessis|          Chahar|          4|     0|   0|      0|   0|      0|       NULL|            NULL|\n",
            "|  202401|  2024|       1|Mar 22, 2024|MA Chidambaram St...|         RCB|         CSK|      1| 2.4|du Plessis|          Chahar|          4|     0|   0|      0|   0|      0|       NULL|            NULL|\n",
            "|  202401|  2024|       1|Mar 22, 2024|MA Chidambaram St...|         RCB|         CSK|      1| 2.5|du Plessis|          Chahar|          0|     0|   0|      0|   0|      0|       NULL|            NULL|\n",
            "|  202401|  2024|       1|Mar 22, 2024|MA Chidambaram St...|         RCB|         CSK|      1| 2.6|du Plessis|          Chahar|          4|     0|   0|      0|   0|      0|       NULL|            NULL|\n",
            "+--------+------+--------+------------+--------------------+------------+------------+-------+----+----------+----------------+-----------+------+----+-------+----+-------+-----------+----------------+\n",
            "only showing top 20 rows\n",
            "\n"
          ]
        }
      ]
    },
    {
      "cell_type": "code",
      "source": [
        "spark.sql(\"SELECT season,match_id,innings,over,runs,striker FROM ipl_2022 where runs = 1 LIMIT 25\").show()"
      ],
      "metadata": {
        "colab": {
          "base_uri": "https://localhost:8080/"
        },
        "id": "iFPV_d-Lu9l1",
        "outputId": "3858dc26-4aaf-4fa3-ac7f-32c2e2cd139e"
      },
      "execution_count": 4,
      "outputs": [
        {
          "output_type": "stream",
          "name": "stdout",
          "text": [
            "+------+--------+-------+----+----+-----------+\n",
            "|season|match_id|innings|over|runs|    striker|\n",
            "+------+--------+-------+----+----+-----------+\n",
            "|  2022|  202201|      1| 1.3|   1|     Conway|\n",
            "|  2022|  202201|      1| 2.1|   1|     Conway|\n",
            "|  2022|  202201|      1| 2.5|   1|    Uthappa|\n",
            "|  2022|  202201|      1| 3.1|   1|    Uthappa|\n",
            "|  2022|  202201|      1| 3.3|   1|     Conway|\n",
            "|  2022|  202201|      1| 4.5|   1|     Rayudu|\n",
            "|  2022|  202201|      1| 5.1|   1|     Rayudu|\n",
            "|  2022|  202201|      1| 5.2|   1|    Uthappa|\n",
            "|  2022|  202201|      1| 6.1|   1|    Uthappa|\n",
            "|  2022|  202201|      1| 6.2|   1|     Rayudu|\n",
            "|  2022|  202201|      1| 6.5|   1|    Uthappa|\n",
            "|  2022|  202201|      1| 7.1|   1|    Uthappa|\n",
            "|  2022|  202201|      1| 7.5|   1|     Rayudu|\n",
            "|  2022|  202201|      1| 7.6|   1|     Jadeja|\n",
            "|  2022|  202201|      1| 8.1|   1|     Jadeja|\n",
            "|  2022|  202201|      1| 8.3|   1|     Rayudu|\n",
            "|  2022|  202201|      1| 8.5|   1|     Jadeja|\n",
            "|  2022|  202201|      1| 9.2|   1|     Jadeja|\n",
            "|  2022|  202201|      1| 9.4|   1|Shivam Dube|\n",
            "|  2022|  202201|      1|10.1|   1|Shivam Dube|\n",
            "+------+--------+-------+----+----+-----------+\n",
            "only showing top 20 rows\n",
            "\n"
          ]
        }
      ]
    },
    {
      "cell_type": "markdown",
      "source": [
        "Distinct runs understand in dataset"
      ],
      "metadata": {
        "id": "mQgSBHC5_4Dq"
      }
    },
    {
      "cell_type": "code",
      "source": [
        "spark.sql(\"SELECT DISTINCT runs , count(runs) from ipl_2022 GROUP BY runs ORDER BY runs ASC\").show()"
      ],
      "metadata": {
        "colab": {
          "base_uri": "https://localhost:8080/"
        },
        "id": "l5o_HkqC-k5h",
        "outputId": "17ec3e60-09e3-437e-da13-3809ac5b2d4a"
      },
      "execution_count": 5,
      "outputs": [
        {
          "output_type": "stream",
          "name": "stdout",
          "text": [
            "+--------------------+-----------+\n",
            "|                runs|count(runs)|\n",
            "+--------------------+-----------+\n",
            "|                   0|       5469|\n",
            "|                   1|       6347|\n",
            "|                   2|       1017|\n",
            "|                   3|         58|\n",
            "|                   4|       2011|\n",
            "|50-run stand up b...|          1|\n",
            "|                   6|       1056|\n",
            "|                byes|         33|\n",
            "|from round the wi...|          1|\n",
            "|            leg byes|        242|\n",
            "|             no ball|         72|\n",
            "|                 out|        903|\n",
            "|                wide|        701|\n",
            "|wide out Stumped!...|          1|\n",
            "+--------------------+-----------+\n",
            "\n"
          ]
        }
      ]
    },
    {
      "cell_type": "markdown",
      "source": [
        "OFF BAT RUNS"
      ],
      "metadata": {
        "id": "J-LnBqWMCi0q"
      }
    },
    {
      "cell_type": "code",
      "source": [
        "spark.sql(\"SELECT DISTINCT off_bat_druns, COUNT(off_bat_druns) AS run_count , off_bat_druns * run_count AS total_runs from ipl_2022 GROUP BY off_bat_druns ORDER BY off_bat_druns ASC\").show()"
      ],
      "metadata": {
        "colab": {
          "base_uri": "https://localhost:8080/"
        },
        "id": "sd2ltxoPBQUy",
        "outputId": "bb5f8b86-3aab-4820-a37c-c5ba61b8dbdc"
      },
      "execution_count": 6,
      "outputs": [
        {
          "output_type": "stream",
          "name": "stdout",
          "text": [
            "+-------------+---------+----------+\n",
            "|off_bat_druns|run_count|total_runs|\n",
            "+-------------+---------+----------+\n",
            "|            0|     7368|         0|\n",
            "|            1|     6383|      6383|\n",
            "|            2|     1021|      2042|\n",
            "|            3|       58|       174|\n",
            "|            4|     2020|      8080|\n",
            "|            6|     1062|      6372|\n",
            "+-------------+---------+----------+\n",
            "\n"
          ]
        }
      ]
    },
    {
      "cell_type": "markdown",
      "source": [
        "EXTRAS"
      ],
      "metadata": {
        "id": "2tagjD7OClQC"
      }
    },
    {
      "cell_type": "code",
      "source": [
        "spark.sql(\"SELECT DISTINCT extra_druns , count(extra_druns) AS run_count , (extra_druns*run_count) AS total_runs from ipl_2022 GROUP BY extra_druns ORDER BY extra_druns ASC\").show()"
      ],
      "metadata": {
        "colab": {
          "base_uri": "https://localhost:8080/"
        },
        "id": "R9o9v6mKBekJ",
        "outputId": "522bf10e-d777-4870-f0ce-6c79456b9c4c"
      },
      "execution_count": 7,
      "outputs": [
        {
          "output_type": "stream",
          "name": "stdout",
          "text": [
            "+-----------+---------+----------+\n",
            "|extra_druns|run_count|total_runs|\n",
            "+-----------+---------+----------+\n",
            "|          0|    16861|         0|\n",
            "|          1|      943|       943|\n",
            "|          2|       33|        66|\n",
            "|          3|        1|         3|\n",
            "|          4|       38|       152|\n",
            "|          5|       36|       180|\n",
            "+-----------+---------+----------+\n",
            "\n"
          ]
        }
      ]
    },
    {
      "cell_type": "code",
      "source": [
        "spark.sql(\"SELECT COUNT(DISTINCT match_id) FROM ipl_2022\").show()"
      ],
      "metadata": {
        "colab": {
          "base_uri": "https://localhost:8080/"
        },
        "id": "GAewENChDq1L",
        "outputId": "81091f03-235f-4028-efc1-d1ed0dacdb69"
      },
      "execution_count": 8,
      "outputs": [
        {
          "output_type": "stream",
          "name": "stdout",
          "text": [
            "+------------------------+\n",
            "|count(DISTINCT match_id)|\n",
            "+------------------------+\n",
            "|                      74|\n",
            "+------------------------+\n",
            "\n"
          ]
        }
      ]
    },
    {
      "cell_type": "markdown",
      "source": [
        "separate runs by category"
      ],
      "metadata": {
        "id": "DX1FUj5cSjPg"
      }
    },
    {
      "cell_type": "code",
      "source": [
        "spark.sql(\"SELECT match_id, innings, off_bat_druns  , COUNT(off_bat_druns) AS ball_count , (ball_count*off_bat_druns) AS collected_runs \\\n",
        "FROM ipl_2022 \\\n",
        "GROUP BY match_id, innings, off_bat_druns \\\n",
        "ORDER BY match_id, innings, off_bat_druns\").show()"
      ],
      "metadata": {
        "colab": {
          "base_uri": "https://localhost:8080/"
        },
        "id": "Y4x1p8LJEBHc",
        "outputId": "3d4497e0-9c60-4c24-80e5-fb0b606263eb"
      },
      "execution_count": 9,
      "outputs": [
        {
          "output_type": "stream",
          "name": "stdout",
          "text": [
            "+--------+-------+-------------+----------+--------------+\n",
            "|match_id|innings|off_bat_druns|ball_count|collected_runs|\n",
            "+--------+-------+-------------+----------+--------------+\n",
            "|  202201|      1|            0|        60|             0|\n",
            "|  202201|      1|            1|        47|            47|\n",
            "|  202201|      1|            2|         4|             8|\n",
            "|  202201|      1|            4|        10|            40|\n",
            "|  202201|      1|            6|         5|            30|\n",
            "|  202201|      2|            0|        43|             0|\n",
            "|  202201|      2|            1|        43|            43|\n",
            "|  202201|      2|            2|        10|            20|\n",
            "|  202201|      2|            4|        12|            48|\n",
            "|  202201|      2|            6|         3|            18|\n",
            "|  202202|      1|            0|        40|             0|\n",
            "|  202202|      1|            1|        50|            50|\n",
            "|  202202|      1|            2|         8|            16|\n",
            "|  202202|      1|            4|        18|            72|\n",
            "|  202202|      1|            6|         6|            36|\n",
            "|  202202|      2|            0|        46|             0|\n",
            "|  202202|      2|            1|        39|            39|\n",
            "|  202202|      2|            2|         6|            12|\n",
            "|  202202|      2|            3|         1|             3|\n",
            "|  202202|      2|            4|        18|            72|\n",
            "+--------+-------+-------------+----------+--------------+\n",
            "only showing top 20 rows\n",
            "\n"
          ]
        }
      ]
    },
    {
      "cell_type": "code",
      "source": [
        "spark.sql(\"SELECT match_id, over, extra_druns, off_bat_druns , (extra_druns + off_bat_druns) AS run FROM ipl_2022 \\\n",
        "\").show()"
      ],
      "metadata": {
        "colab": {
          "base_uri": "https://localhost:8080/"
        },
        "id": "9uJi0WU3Srgv",
        "outputId": "682db689-ff19-4586-faa7-068106f019f5"
      },
      "execution_count": 10,
      "outputs": [
        {
          "output_type": "stream",
          "name": "stdout",
          "text": [
            "+--------+----+-----------+-------------+---+\n",
            "|match_id|over|extra_druns|off_bat_druns|run|\n",
            "+--------+----+-----------+-------------+---+\n",
            "|  202201| 0.1|          1|            0|  1|\n",
            "|  202201| 0.1|          0|            0|  0|\n",
            "|  202201| 0.2|          1|            0|  1|\n",
            "|  202201| 0.2|          0|            0|  0|\n",
            "|  202201| 0.3|          0|            0|  0|\n",
            "|  202201| 0.4|          1|            0|  1|\n",
            "|  202201| 0.4|          0|            0|  0|\n",
            "|  202201| 0.5|          0|            0|  0|\n",
            "|  202201| 0.6|          0|            0|  0|\n",
            "|  202201| 1.1|          0|            0|  0|\n",
            "|  202201| 1.2|          0|            0|  0|\n",
            "|  202201| 1.3|          0|            1|  1|\n",
            "|  202201| 1.4|          0|            4|  4|\n",
            "|  202201| 1.5|          0|            0|  0|\n",
            "|  202201| 1.6|          0|            0|  0|\n",
            "|  202201| 2.1|          0|            1|  1|\n",
            "|  202201| 2.2|          0|            6|  6|\n",
            "|  202201| 2.3|          0|            0|  0|\n",
            "|  202201| 2.4|          0|            0|  0|\n",
            "|  202201| 2.5|          0|            1|  1|\n",
            "+--------+----+-----------+-------------+---+\n",
            "only showing top 20 rows\n",
            "\n"
          ]
        }
      ]
    },
    {
      "cell_type": "markdown",
      "source": [],
      "metadata": {
        "id": "P5Ff-D-wVAFg"
      }
    },
    {
      "cell_type": "code",
      "source": [
        "spark.sql(\"SELECT (extra_druns + off_bat_druns) AS run, COUNT(*) AS number_of_balls, (number_of_balls*run) AS score_colleted FROM ipl_2022 GROUP BY run ORDER BY run\").show()\n",
        "\n",
        "spark.sql(\"SELECT (extras + runs_of_bat) AS run, COUNT(*) AS number_of_balls, (number_of_balls*run) AS score_colleted FROM ipl_2023 GROUP BY run ORDER BY run\").show()\n",
        "\n",
        "spark.sql(\"SELECT (extras + runs_of_bat) AS run, COUNT(*) AS number_of_balls, (number_of_balls*run) AS score_colleted FROM ipl_2024 GROUP BY run ORDER BY run\").show()"
      ],
      "metadata": {
        "colab": {
          "base_uri": "https://localhost:8080/"
        },
        "id": "Vu7w5awATX_v",
        "outputId": "e0d49e5b-26c3-4dac-faf7-ef53a2aa0552"
      },
      "execution_count": 11,
      "outputs": [
        {
          "output_type": "stream",
          "name": "stdout",
          "text": [
            "+---+---------------+--------------+\n",
            "|run|number_of_balls|score_colleted|\n",
            "+---+---------------+--------------+\n",
            "|  0|           6355|             0|\n",
            "|  1|           7267|          7267|\n",
            "|  2|           1072|          2144|\n",
            "|  3|             62|           186|\n",
            "|  4|           2049|          8196|\n",
            "|  5|             45|           225|\n",
            "|  6|           1057|          6342|\n",
            "|  7|              5|            35|\n",
            "+---+---------------+--------------+\n",
            "\n",
            "+---+---------------+--------------+\n",
            "|run|number_of_balls|score_colleted|\n",
            "+---+---------------+--------------+\n",
            "|  0|           5817|             0|\n",
            "|  1|           7476|          7476|\n",
            "|  2|           1158|          2316|\n",
            "|  3|             53|           159|\n",
            "|  4|           2196|          8784|\n",
            "|  5|             39|           195|\n",
            "|  6|           1110|          6660|\n",
            "|  7|             14|            98|\n",
            "+---+---------------+--------------+\n",
            "\n",
            "+---+---------------+--------------+\n",
            "|run|number_of_balls|score_colleted|\n",
            "+---+---------------+--------------+\n",
            "|  0|           3280|             0|\n",
            "|  1|           4489|          4489|\n",
            "|  2|            728|          1456|\n",
            "|  3|             21|            63|\n",
            "|  4|           1390|          5560|\n",
            "|  5|             28|           140|\n",
            "|  6|            806|          4836|\n",
            "|  7|              8|            56|\n",
            "+---+---------------+--------------+\n",
            "\n"
          ]
        }
      ]
    },
    {
      "cell_type": "markdown",
      "source": [
        "Number of balls per each run"
      ],
      "metadata": {
        "id": "-fvCLG_KHoDQ"
      }
    },
    {
      "cell_type": "code",
      "source": [
        "spark.sql(\"SELECT COUNT(*) AS total_bals FROM ipl_2024\").show()\n",
        "spark.sql(\"SELECT \\\n",
        "  (extras + runs_of_bat) AS run,\\\n",
        "  COUNT(*) AS number_of_balls, \\\n",
        "  ROUND(((number_of_balls/(SELECT COUNT(*) AS total_bals FROM ipl_2024))*100),2) AS bals_percentage, \\\n",
        "  (number_of_balls*run) AS score_colleted \\\n",
        "FROM ipl_2024 \\\n",
        "GROUP BY run \\\n",
        "ORDER BY run\").show()"
      ],
      "metadata": {
        "colab": {
          "base_uri": "https://localhost:8080/"
        },
        "id": "rzIbGvUaHliu",
        "outputId": "eeb7ae33-f475-48ff-ef05-36e9c19b21b9"
      },
      "execution_count": 12,
      "outputs": [
        {
          "output_type": "stream",
          "name": "stdout",
          "text": [
            "+----------+\n",
            "|total_bals|\n",
            "+----------+\n",
            "|     10750|\n",
            "+----------+\n",
            "\n",
            "+---+---------------+---------------+--------------+\n",
            "|run|number_of_balls|bals_percentage|score_colleted|\n",
            "+---+---------------+---------------+--------------+\n",
            "|  0|           3280|          30.51|             0|\n",
            "|  1|           4489|          41.76|          4489|\n",
            "|  2|            728|           6.77|          1456|\n",
            "|  3|             21|            0.2|            63|\n",
            "|  4|           1390|          12.93|          5560|\n",
            "|  5|             28|           0.26|           140|\n",
            "|  6|            806|            7.5|          4836|\n",
            "|  7|              8|           0.07|            56|\n",
            "+---+---------------+---------------+--------------+\n",
            "\n"
          ]
        }
      ]
    },
    {
      "cell_type": "markdown",
      "source": [
        "Balls used percentage for each year"
      ],
      "metadata": {
        "id": "5FSYORFHJQvo"
      }
    },
    {
      "cell_type": "code",
      "source": [
        "spark.sql(\"SELECT \\\n",
        "  (extras + runs_of_bat) AS run,\\\n",
        "  COUNT(*) AS number_of_balls, \\\n",
        "  ROUND(((number_of_balls/(SELECT COUNT(*) AS total_bals FROM ipl_2022))*100),2) AS bals_percentage, \\\n",
        "  (number_of_balls*run) AS score_colleted \\\n",
        "FROM ipl_2022 \\\n",
        "GROUP BY run \\\n",
        "ORDER BY run\").show()\n",
        "\n",
        "spark.sql(\"SELECT \\\n",
        "  (extras + runs_of_bat) AS run,\\\n",
        "  COUNT(*) AS number_of_balls, \\\n",
        "  ROUND(((number_of_balls/(SELECT COUNT(*) AS total_bals FROM ipl_2023))*100),2) AS bals_percentage, \\\n",
        "  (number_of_balls*run) AS score_colleted \\\n",
        "FROM ipl_2023 \\\n",
        "GROUP BY run \\\n",
        "ORDER BY run\").show()\n",
        "\n",
        "spark.sql(\"SELECT \\\n",
        "  (extras + runs_of_bat) AS run,\\\n",
        "  COUNT(*) AS number_of_balls, \\\n",
        "  ROUND(((number_of_balls/(SELECT COUNT(*) AS total_bals FROM ipl_2024))*100),2) AS bals_percentage, \\\n",
        "  (number_of_balls*run) AS score_colleted \\\n",
        "FROM ipl_2024 \\\n",
        "GROUP BY run \\\n",
        "ORDER BY run\").show()"
      ],
      "metadata": {
        "colab": {
          "base_uri": "https://localhost:8080/"
        },
        "id": "xRqvyuRCJXfy",
        "outputId": "66670e09-62cb-4873-e95f-3e57c8c88ed4"
      },
      "execution_count": 13,
      "outputs": [
        {
          "output_type": "stream",
          "name": "stdout",
          "text": [
            "+---+---------------+---------------+--------------+\n",
            "|run|number_of_balls|bals_percentage|score_colleted|\n",
            "+---+---------------+---------------+--------------+\n",
            "|  0|           6355|          35.48|             0|\n",
            "|  1|           7267|          40.57|          7267|\n",
            "|  2|           1072|           5.98|          2144|\n",
            "|  3|             62|           0.35|           186|\n",
            "|  4|           2049|          11.44|          8196|\n",
            "|  5|             45|           0.25|           225|\n",
            "|  6|           1057|            5.9|          6342|\n",
            "|  7|              5|           0.03|            35|\n",
            "+---+---------------+---------------+--------------+\n",
            "\n",
            "+---+---------------+---------------+--------------+\n",
            "|run|number_of_balls|bals_percentage|score_colleted|\n",
            "+---+---------------+---------------+--------------+\n",
            "|  0|           5817|          32.56|             0|\n",
            "|  1|           7476|          41.85|          7476|\n",
            "|  2|           1158|           6.48|          2316|\n",
            "|  3|             53|            0.3|           159|\n",
            "|  4|           2196|          12.29|          8784|\n",
            "|  5|             39|           0.22|           195|\n",
            "|  6|           1110|           6.21|          6660|\n",
            "|  7|             14|           0.08|            98|\n",
            "+---+---------------+---------------+--------------+\n",
            "\n",
            "+---+---------------+---------------+--------------+\n",
            "|run|number_of_balls|bals_percentage|score_colleted|\n",
            "+---+---------------+---------------+--------------+\n",
            "|  0|           3280|          30.51|             0|\n",
            "|  1|           4489|          41.76|          4489|\n",
            "|  2|            728|           6.77|          1456|\n",
            "|  3|             21|            0.2|            63|\n",
            "|  4|           1390|          12.93|          5560|\n",
            "|  5|             28|           0.26|           140|\n",
            "|  6|            806|            7.5|          4836|\n",
            "|  7|              8|           0.07|            56|\n",
            "+---+---------------+---------------+--------------+\n",
            "\n"
          ]
        }
      ]
    },
    {
      "cell_type": "markdown",
      "source": [
        "Combined results"
      ],
      "metadata": {
        "id": "mycGEBM0J4Rx"
      }
    },
    {
      "cell_type": "code",
      "source": [
        "spark.sql(\"SELECT \\\n",
        "    run, \\\n",
        "    SUM(number_of_balls_2022) AS number_of_balls_2022, \\\n",
        "    AVG(bals_percentage_2022) AS bals_percentage_2022, \\\n",
        "    SUM(score_collected_2022) AS total_score_collected_2022, \\\n",
        "    SUM(number_of_balls_2023) AS number_of_balls_2023, \\\n",
        "    AVG(bals_percentage_2023) AS bals_percentage_2023, \\\n",
        "    SUM(score_collected_2023) AS total_score_collected_2023, \\\n",
        "    SUM(number_of_balls_2024) AS number_of_balls_2024, \\\n",
        "    AVG(bals_percentage_2024) AS bals_percentage_2024, \\\n",
        "    SUM(score_collected_2024) AS total_score_collected_2024 \\\n",
        "FROM ( \\\n",
        "    SELECT \\\n",
        "        (extras + runs_of_bat) AS run, \\\n",
        "        COUNT(*) AS number_of_balls_2022, \\\n",
        "        ROUND(((COUNT(*) / (SELECT COUNT(*) FROM ipl_2022)) * 100), 2) AS bals_percentage_2022, \\\n",
        "        (COUNT(*) * (extras + runs_of_bat)) AS score_collected_2022, \\\n",
        "        NULL AS number_of_balls_2023, \\\n",
        "        NULL AS bals_percentage_2023, \\\n",
        "        NULL AS score_collected_2023, \\\n",
        "        NULL AS number_of_balls_2024, \\\n",
        "        NULL AS bals_percentage_2024, \\\n",
        "        NULL AS score_collected_2024 \\\n",
        "    FROM \\\n",
        "        ipl_2022 \\\n",
        "    GROUP BY \\\n",
        "        run \\\n",
        "    UNION ALL \\\n",
        "    SELECT \\\n",
        "        (extras + runs_of_bat) AS run, \\\n",
        "        NULL AS number_of_balls_2022, \\\n",
        "        NULL AS bals_percentage_2022, \\\n",
        "        NULL AS score_collected_2022, \\\n",
        "        COUNT(*) AS number_of_balls_2023, \\\n",
        "        ROUND(((COUNT(*) / (SELECT COUNT(*) FROM ipl_2023)) * 100), 2) AS bals_percentage_2023, \\\n",
        "        (COUNT(*) * (extras + runs_of_bat)) AS score_collected_2023, \\\n",
        "        NULL AS number_of_balls_2024, \\\n",
        "        NULL AS bals_percentage_2024, \\\n",
        "        NULL AS score_collected_2024 \\\n",
        "    FROM \\\n",
        "        ipl_2023 \\\n",
        "    GROUP BY \\\n",
        "        run \\\n",
        "    UNION ALL \\\n",
        "    SELECT \\\n",
        "        (extras + runs_of_bat) AS run, \\\n",
        "        NULL AS number_of_balls_2022, \\\n",
        "        NULL AS bals_percentage_2022, \\\n",
        "        NULL AS score_collected_2022, \\\n",
        "        NULL AS number_of_balls_2023, \\\n",
        "        NULL AS bals_percentage_2023, \\\n",
        "        NULL AS score_collected_2023, \\\n",
        "        COUNT(*) AS number_of_balls_2024, \\\n",
        "        ROUND(((COUNT(*) / (SELECT COUNT(*) FROM ipl_2024)) * 100), 2) AS bals_percentage_2024, \\\n",
        "        (COUNT(*) * (extras + runs_of_bat)) AS score_collected_2024 \\\n",
        "    FROM \\\n",
        "        ipl_2024 \\\n",
        "    GROUP BY \\\n",
        "        run \\\n",
        ") AS combined_results \\\n",
        "GROUP BY \\\n",
        "    run \\\n",
        "ORDER BY \\\n",
        "    run;\\\n",
        "\").show()\n"
      ],
      "metadata": {
        "colab": {
          "base_uri": "https://localhost:8080/"
        },
        "id": "RvEuX5VnJ63H",
        "outputId": "d39fea6d-0165-47ed-b033-645666f99797"
      },
      "execution_count": 14,
      "outputs": [
        {
          "output_type": "stream",
          "name": "stdout",
          "text": [
            "+---+--------------------+--------------------+--------------------------+--------------------+--------------------+--------------------------+--------------------+--------------------+--------------------------+\n",
            "|run|number_of_balls_2022|bals_percentage_2022|total_score_collected_2022|number_of_balls_2023|bals_percentage_2023|total_score_collected_2023|number_of_balls_2024|bals_percentage_2024|total_score_collected_2024|\n",
            "+---+--------------------+--------------------+--------------------------+--------------------+--------------------+--------------------------+--------------------+--------------------+--------------------------+\n",
            "|  0|                6355|               35.48|                         0|                5817|               32.56|                         0|                3280|               30.51|                         0|\n",
            "|  1|                7267|               40.57|                      7267|                7476|               41.85|                      7476|                4489|               41.76|                      4489|\n",
            "|  2|                1072|                5.98|                      2144|                1158|                6.48|                      2316|                 728|                6.77|                      1456|\n",
            "|  3|                  62|                0.35|                       186|                  53|                 0.3|                       159|                  21|                 0.2|                        63|\n",
            "|  4|                2049|               11.44|                      8196|                2196|               12.29|                      8784|                1390|               12.93|                      5560|\n",
            "|  5|                  45|                0.25|                       225|                  39|                0.22|                       195|                  28|                0.26|                       140|\n",
            "|  6|                1057|                 5.9|                      6342|                1110|                6.21|                      6660|                 806|                 7.5|                      4836|\n",
            "|  7|                   5|                0.03|                        35|                  14|                0.08|                        98|                   8|                0.07|                        56|\n",
            "+---+--------------------+--------------------+--------------------------+--------------------+--------------------+--------------------------+--------------------+--------------------+--------------------------+\n",
            "\n"
          ]
        }
      ]
    },
    {
      "cell_type": "markdown",
      "source": [
        "Customized Query"
      ],
      "metadata": {
        "id": "nyyRBab5LJq_"
      }
    },
    {
      "cell_type": "code",
      "source": [
        "spark.sql(\"SELECT \\\n",
        "    run, \\\n",
        "    AVG(bals_percentage_2022) AS bals_percentage_2022, \\\n",
        "    AVG(bals_percentage_2023) AS bals_percentage_2023, \\\n",
        "    AVG(bals_percentage_2024) AS bals_percentage_2024 \\\n",
        "FROM ( \\\n",
        "    SELECT \\\n",
        "        (extras + runs_of_bat) AS run, \\\n",
        "        COUNT(*) AS number_of_balls_2022, \\\n",
        "        ROUND(((COUNT(*) / (SELECT COUNT(*) FROM ipl_2022)) * 100), 2) AS bals_percentage_2022, \\\n",
        "        (COUNT(*) * (extras + runs_of_bat)) AS score_collected_2022, \\\n",
        "        NULL AS number_of_balls_2023, \\\n",
        "        NULL AS bals_percentage_2023, \\\n",
        "        NULL AS score_collected_2023, \\\n",
        "        NULL AS number_of_balls_2024, \\\n",
        "        NULL AS bals_percentage_2024, \\\n",
        "        NULL AS score_collected_2024 \\\n",
        "    FROM \\\n",
        "        ipl_2022 \\\n",
        "    GROUP BY \\\n",
        "        run \\\n",
        "    UNION ALL \\\n",
        "    SELECT \\\n",
        "        (extras + runs_of_bat) AS run, \\\n",
        "        NULL AS number_of_balls_2022, \\\n",
        "        NULL AS bals_percentage_2022, \\\n",
        "        NULL AS score_collected_2022, \\\n",
        "        COUNT(*) AS number_of_balls_2023, \\\n",
        "        ROUND(((COUNT(*) / (SELECT COUNT(*) FROM ipl_2023)) * 100), 2) AS bals_percentage_2023, \\\n",
        "        (COUNT(*) * (extras + runs_of_bat)) AS score_collected_2023, \\\n",
        "        NULL AS number_of_balls_2024, \\\n",
        "        NULL AS bals_percentage_2024, \\\n",
        "        NULL AS score_collected_2024 \\\n",
        "    FROM \\\n",
        "        ipl_2023 \\\n",
        "    GROUP BY \\\n",
        "        run \\\n",
        "    UNION ALL \\\n",
        "    SELECT \\\n",
        "        (extras + runs_of_bat) AS run, \\\n",
        "        NULL AS number_of_balls_2022, \\\n",
        "        NULL AS bals_percentage_2022, \\\n",
        "        NULL AS score_collected_2022, \\\n",
        "        NULL AS number_of_balls_2023, \\\n",
        "        NULL AS bals_percentage_2023, \\\n",
        "        NULL AS score_collected_2023, \\\n",
        "        COUNT(*) AS number_of_balls_2024, \\\n",
        "        ROUND(((COUNT(*) / (SELECT COUNT(*) FROM ipl_2024)) * 100), 2) AS bals_percentage_2024, \\\n",
        "        (COUNT(*) * (extras + runs_of_bat)) AS score_collected_2024 \\\n",
        "    FROM \\\n",
        "        ipl_2024 \\\n",
        "    GROUP BY \\\n",
        "        run \\\n",
        ") AS combined_results \\\n",
        "GROUP BY \\\n",
        "    run \\\n",
        "ORDER BY \\\n",
        "    run;\\\n",
        "\").show()\n"
      ],
      "metadata": {
        "colab": {
          "base_uri": "https://localhost:8080/"
        },
        "id": "bzzEfbAZLLz4",
        "outputId": "d429136e-fb03-4a32-ade6-dfa390bb2c56"
      },
      "execution_count": 15,
      "outputs": [
        {
          "output_type": "stream",
          "name": "stdout",
          "text": [
            "+---+--------------------+--------------------+--------------------+\n",
            "|run|bals_percentage_2022|bals_percentage_2023|bals_percentage_2024|\n",
            "+---+--------------------+--------------------+--------------------+\n",
            "|  0|               35.48|               32.56|               30.51|\n",
            "|  1|               40.57|               41.85|               41.76|\n",
            "|  2|                5.98|                6.48|                6.77|\n",
            "|  3|                0.35|                 0.3|                 0.2|\n",
            "|  4|               11.44|               12.29|               12.93|\n",
            "|  5|                0.25|                0.22|                0.26|\n",
            "|  6|                 5.9|                6.21|                 7.5|\n",
            "|  7|                0.03|                0.08|                0.07|\n",
            "+---+--------------------+--------------------+--------------------+\n",
            "\n"
          ]
        }
      ]
    },
    {
      "cell_type": "markdown",
      "source": [
        "Add matplotlib"
      ],
      "metadata": {
        "id": "MLYCdvnoLrsw"
      }
    },
    {
      "cell_type": "markdown",
      "source": [
        "example bar chart"
      ],
      "metadata": {
        "id": "zs3K4NHbNP7i"
      }
    },
    {
      "cell_type": "markdown",
      "source": [
        "Use spark.sql results"
      ],
      "metadata": {
        "id": "bVsjjtXcMqlw"
      }
    },
    {
      "cell_type": "code",
      "source": [
        "result = spark.sql(\"SELECT \\\n",
        "    run, \\\n",
        "    AVG(bals_percentage_2022) AS bals_percentage_2022, \\\n",
        "    AVG(bals_percentage_2023) AS bals_percentage_2023, \\\n",
        "    AVG(bals_percentage_2024) AS bals_percentage_2024 \\\n",
        "FROM ( \\\n",
        "    SELECT \\\n",
        "        (extras + runs_of_bat) AS run, \\\n",
        "        COUNT(*) AS number_of_balls_2022, \\\n",
        "        ROUND(((COUNT(*) / (SELECT COUNT(*) FROM ipl_2022)) * 100), 2) AS bals_percentage_2022, \\\n",
        "        (COUNT(*) * (extras + runs_of_bat)) AS score_collected_2022, \\\n",
        "        NULL AS number_of_balls_2023, \\\n",
        "        NULL AS bals_percentage_2023, \\\n",
        "        NULL AS score_collected_2023, \\\n",
        "        NULL AS number_of_balls_2024, \\\n",
        "        NULL AS bals_percentage_2024, \\\n",
        "        NULL AS score_collected_2024 \\\n",
        "    FROM \\\n",
        "        ipl_2022 \\\n",
        "    GROUP BY \\\n",
        "        run \\\n",
        "    UNION ALL \\\n",
        "    SELECT \\\n",
        "        (extras + runs_of_bat) AS run, \\\n",
        "        NULL AS number_of_balls_2022, \\\n",
        "        NULL AS bals_percentage_2022, \\\n",
        "        NULL AS score_collected_2022, \\\n",
        "        COUNT(*) AS number_of_balls_2023, \\\n",
        "        ROUND(((COUNT(*) / (SELECT COUNT(*) FROM ipl_2023)) * 100), 2) AS bals_percentage_2023, \\\n",
        "        (COUNT(*) * (extras + runs_of_bat)) AS score_collected_2023, \\\n",
        "        NULL AS number_of_balls_2024, \\\n",
        "        NULL AS bals_percentage_2024, \\\n",
        "        NULL AS score_collected_2024 \\\n",
        "    FROM \\\n",
        "        ipl_2023 \\\n",
        "    GROUP BY \\\n",
        "        run \\\n",
        "    UNION ALL \\\n",
        "    SELECT \\\n",
        "        (extras + runs_of_bat) AS run, \\\n",
        "        NULL AS number_of_balls_2022, \\\n",
        "        NULL AS bals_percentage_2022, \\\n",
        "        NULL AS score_collected_2022, \\\n",
        "        NULL AS number_of_balls_2023, \\\n",
        "        NULL AS bals_percentage_2023, \\\n",
        "        NULL AS score_collected_2023, \\\n",
        "        COUNT(*) AS number_of_balls_2024, \\\n",
        "        ROUND(((COUNT(*) / (SELECT COUNT(*) FROM ipl_2024)) * 100), 2) AS bals_percentage_2024, \\\n",
        "        (COUNT(*) * (extras + runs_of_bat)) AS score_collected_2024 \\\n",
        "    FROM \\\n",
        "        ipl_2024 \\\n",
        "    GROUP BY \\\n",
        "        run \\\n",
        ") AS combined_results \\\n",
        "GROUP BY \\\n",
        "    run \\\n",
        "ORDER BY \\\n",
        "    run;\\\n",
        "\").collect()"
      ],
      "metadata": {
        "id": "Hxw2m-v5Mt14"
      },
      "execution_count": 16,
      "outputs": []
    },
    {
      "cell_type": "code",
      "source": [
        "years = ['2022', '2023', '2024']\n",
        "result"
      ],
      "metadata": {
        "colab": {
          "base_uri": "https://localhost:8080/"
        },
        "id": "rXAGqwvIM1RA",
        "outputId": "776e72e4-592b-44bc-c881-d2fd34f4620b"
      },
      "execution_count": 17,
      "outputs": [
        {
          "output_type": "execute_result",
          "data": {
            "text/plain": [
              "[Row(run=0, bals_percentage_2022=35.48, bals_percentage_2023=32.56, bals_percentage_2024=30.51),\n",
              " Row(run=1, bals_percentage_2022=40.57, bals_percentage_2023=41.85, bals_percentage_2024=41.76),\n",
              " Row(run=2, bals_percentage_2022=5.98, bals_percentage_2023=6.48, bals_percentage_2024=6.77),\n",
              " Row(run=3, bals_percentage_2022=0.35, bals_percentage_2023=0.3, bals_percentage_2024=0.2),\n",
              " Row(run=4, bals_percentage_2022=11.44, bals_percentage_2023=12.29, bals_percentage_2024=12.93),\n",
              " Row(run=5, bals_percentage_2022=0.25, bals_percentage_2023=0.22, bals_percentage_2024=0.26),\n",
              " Row(run=6, bals_percentage_2022=5.9, bals_percentage_2023=6.21, bals_percentage_2024=7.5),\n",
              " Row(run=7, bals_percentage_2022=0.03, bals_percentage_2023=0.08, bals_percentage_2024=0.07)]"
            ]
          },
          "metadata": {},
          "execution_count": 17
        }
      ]
    },
    {
      "cell_type": "markdown",
      "source": [
        "# This is an extraction of each scores. it shows that the frequency of getting a boundary have increased."
      ],
      "metadata": {
        "id": "AoxmvvItlst_"
      }
    },
    {
      "cell_type": "code",
      "source": [
        "import matplotlib.pyplot as plt\n",
        "import math\n",
        "\n",
        "colors = ['#9fa2a1', '#39fc03', '#0320fc']  # Red, Green, Blue\n",
        "width = 0.25\n",
        "\n",
        "for runs in result:\n",
        "  run_score = runs[0]\n",
        "  for i in range(len(years)):\n",
        "    year = years[i]\n",
        "    plt.bar((run_score + width * i),\n",
        "            # math.log(runs[i+1]*100),\n",
        "            (runs[i+1]),\n",
        "            width,\n",
        "            label = year,\n",
        "            color = colors[i % len(colors)])\n",
        "\n",
        "plt.xlabel('Run')\n",
        "plt.ylabel('Ball Averages')\n",
        "plt.title('Ball Averages by Run per year')\n",
        "plt.yscale('log')\n",
        "# plt.xticks(index + bar_width, years)\n",
        "# plt.legend()\n",
        "# plt.grid(True, which=\"both\", linestyle='-.')\n",
        "\n",
        "plt.tight_layout()\n",
        "plt.show()"
      ],
      "metadata": {
        "colab": {
          "base_uri": "https://localhost:8080/",
          "height": 487
        },
        "id": "8kDzsHrvatlX",
        "outputId": "2cbc6df4-ead0-41a8-c4be-c4d8e2d9c01c"
      },
      "execution_count": 18,
      "outputs": [
        {
          "output_type": "display_data",
          "data": {
            "text/plain": [
              "<Figure size 640x480 with 1 Axes>"
            ],
            "image/png": "[encoded data removed]"
          },
          "metadata": {}
        }
      ]
    }
  ]
}